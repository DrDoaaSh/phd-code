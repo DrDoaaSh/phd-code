{
  "cells": [
    {
      "cell_type": "markdown",
      "metadata": {
        "id": "view-in-github",
        "colab_type": "text"
      },
      "source": [
        "<a href=\"https://colab.research.google.com/github/DrDoaaSh/phd-code/blob/main/comparModels_CNN%2BLSTM.ipynb\" target=\"_parent\"><img src=\"https://colab.research.google.com/assets/colab-badge.svg\" alt=\"Open In Colab\"/></a>"
      ]
    },
    {
      "cell_type": "code",
      "execution_count": null,
      "metadata": {
        "colab": {
          "base_uri": "https://localhost:8080/"
        },
        "id": "H5P967qvonHC",
        "outputId": "48d455a3-d578-4873-e2d5-ca63b6b44f18"
      },
      "outputs": [
        {
          "output_type": "stream",
          "name": "stdout",
          "text": [
            "Mounted at /content/drive\n"
          ]
        }
      ],
      "source": [
        "from google.colab import drive\n",
        "drive.mount('/content/drive')"
      ]
    },
    {
      "cell_type": "markdown",
      "metadata": {
        "id": "83r4FrFXonHD"
      },
      "source": [
        "## Libraries"
      ]
    },
    {
      "cell_type": "code",
      "execution_count": null,
      "metadata": {
        "id": "xDBzIvShonHD"
      },
      "outputs": [],
      "source": [
        "from scipy import misc, ndimage, signal\n",
        "from sklearn.model_selection  import train_test_split\n",
        "import numpy\n",
        "import numpy as np\n",
        "import random\n",
        "import ntpath\n",
        "import os\n",
        "import pandas as pd\n",
        "import numpy as np\n",
        "import matplotlib as mpl\n",
        "import matplotlib.pyplot as plt\n",
        "import matplotlib.colors as colors\n",
        "from keras import optimizers\n",
        "from keras import regularizers\n",
        "import tensorflow as tf\n",
        "import cv2\n",
        "from keras import backend as K\n",
        "from time import time\n",
        "import time as tm\n",
        "import datetime\n",
        "from operator import itemgetter\n",
        "import glob\n",
        "from skimage.util.shape import view_as_blocks\n",
        "from keras.utils import np_utils\n",
        "from keras.utils import to_categorical\n",
        "\n",
        "\n",
        "import numpy\n",
        "import numpy as np\n",
        "import random\n",
        "import os\n",
        "import matplotlib as mpl\n",
        "import matplotlib.pyplot as plt\n",
        "import matplotlib.colors as colors\n",
        "from keras.layers import Activation\n",
        "import tensorflow as tf\n",
        "import cv2\n",
        "from tensorflow.keras.layers import Lambda, Layer, ReLU\n",
        "from tensorflow.keras.models import Sequential\n",
        "from tensorflow.keras.layers import Dense, Dropout, Activation, Flatten, LSTM, SpatialDropout2D, Concatenate\n",
        "tf.keras.layers.Concatenate()\n",
        "from tensorflow.keras.layers import Conv2D,ConvLSTM2D, MaxPooling2D, AveragePooling2D, AveragePooling3D,GlobalAveragePooling3D, GlobalAveragePooling2D, GlobalAveragePooling1D, UpSampling2D, BatchNormalization\n",
        "from keras.layers.core import Reshape\n",
        "from keras import optimizers\n",
        "from tensorflow.keras import regularizers\n",
        "from keras import Input, Model\n",
        "from time import time\n",
        "import time as tm\n",
        "from keras.initializers import Constant, RandomNormal, glorot_normal\n",
        "from tensorflow.keras.models import load_model\n",
        "from tensorflow.keras.regularizers import l2\n",
        "from keras import backend as K\n",
        "from tensorflow.keras.utils import plot_model\n",
        "from keras.layers import  concatenate"
      ]
    },
    {
      "cell_type": "markdown",
      "metadata": {
        "id": "jGYyQp73onHE"
      },
      "source": [
        "## 30 SRM filters for preprocessing and the activation function"
      ]
    },
    {
      "cell_type": "code",
      "execution_count": null,
      "metadata": {
        "colab": {
          "base_uri": "https://localhost:8080/"
        },
        "id": "Ou4cMP4TonHE",
        "outputId": "26d017af-ed5b-4362-baae-931966cf2d28"
      },
      "outputs": [
        {
          "output_type": "stream",
          "name": "stdout",
          "text": [
            "(5, 5, 1, 30)\n"
          ]
        }
      ],
      "source": [
        "################################################## 30 SRM FILTERS\n",
        "srm_weights = np.load('/content/drive/MyDrive/Colab Notebooks/SRM_Kernels.npy')\n",
        "\n",
        "biasSRM=numpy.ones(30)\n",
        "print (srm_weights.shape)\n",
        "################################################## TLU ACTIVATION FUNCTION\n",
        "\n",
        "T3 = 3\n",
        "def TLU3(x):\n",
        "    tlu3 = K.tanh(x)*T3\n",
        "    return tlu3\n",
        "\n",
        "\n",
        "T2 = 2\n",
        "def TLU2(x):\n",
        "    tlu2 = K.tanh(x)*T2\n",
        "    return tlu2\n",
        "\n",
        "\n",
        "def Tanh3(x):\n",
        "    tlu3 = K.tanh(x)*T3\n",
        "    return tlu3\n",
        "###########################################################################\n",
        "\n",
        "def thtanh(x,t):\n",
        "    th=K.tanh(x)*t\n",
        "    return th\n",
        "\n",
        "\n",
        "\n",
        "from keras.layers import Layer\n",
        "class Thtanh(Layer):\n",
        "\n",
        "    def __init__(self, th=1.0, trainable=False, **kwargs):\n",
        "        super(Thtanh, self).__init__(**kwargs)\n",
        "        self.supports_masking = True\n",
        "        self.th = th\n",
        "        self.trainable = trainable\n",
        "\n",
        "    def build(self, input_shape):\n",
        "        self.th_factor = K.variable(self.th,\n",
        "                                      dtype=K.floatx(),\n",
        "                                      name='th_factor')\n",
        "\n",
        "        if self.trainable:\n",
        "            self._trainable_weights.append(self.th_factor)\n",
        "\n",
        "        super(Thtanh, self).build(input_shape)\n",
        "\n",
        "    def call(self, inputs, mask=None):\n",
        "        return thtanh(inputs, self.th_factor)\n",
        "\n",
        "    def get_config(self):\n",
        "        config = {'th': self.get_weights()[0] if self.trainable else self.th,\n",
        "                  'trainable': self.trainable}\n",
        "        base_config = super(Thtanh, self).get_config()\n",
        "        return dict(list(base_config.items()) + list(config.items()))\n",
        "\n",
        "    def compute_output_shape(self, input_shape):\n",
        "        return input_shape\n",
        "\n",
        "############################################################################\n",
        "\n",
        "def tlu(x,t):\n",
        "    tlu = tf.maximum(tf.minimum(x, t), -t)\n",
        "    return tlu\n",
        "\n",
        "#from keras.utils.generic_utils import get_custom_objects\n",
        "#get_custom_objects().update({'tlu': Activation(tlu)})\n",
        "\n",
        "from keras.layers import Layer\n",
        "class TLU(Layer):\n",
        "\n",
        "    def __init__(self, th=1.0, trainable=False, **kwargs):\n",
        "        super(TLU, self).__init__(**kwargs)\n",
        "        self.supports_masking = True\n",
        "        self.th = th\n",
        "        self.trainable = trainable\n",
        "\n",
        "    def build(self, input_shape):\n",
        "        self.th_factor = K.variable(self.th,\n",
        "                                      dtype=K.floatx(),\n",
        "                                      name='th_factor')\n",
        "\n",
        "        if self.trainable:\n",
        "            self._trainable_weights.append(self.th_factor)\n",
        "\n",
        "        super(TLU, self).build(input_shape)\n",
        "\n",
        "    def call(self, inputs, mask=None):\n",
        "        return tlu(inputs, self.th_factor)\n",
        "\n",
        "    def get_config(self):\n",
        "        config = {'th': self.get_weights()[0] if self.trainable else self.th,\n",
        "                  'trainable': self.trainable}\n",
        "        base_config = super(TLU, self).get_config()\n",
        "        return dict(list(base_config.items()) + list(config.items()))\n",
        "\n",
        "    def compute_output_shape(self, input_shape):\n",
        "        return input_shape"
      ]
    },
    {
      "cell_type": "markdown",
      "metadata": {
        "id": "TfSPv7CkonHG"
      },
      "source": [
        "## TPU"
      ]
    },
    {
      "cell_type": "code",
      "execution_count": null,
      "metadata": {
        "colab": {
          "base_uri": "https://localhost:8080/"
        },
        "id": "ravuvRcsonHG",
        "outputId": "21d47f63-c042-47df-a590-15bc4be58b41"
      },
      "outputs": [
        {
          "output_type": "stream",
          "name": "stdout",
          "text": [
            "Colab only includes TensorFlow 2.x; %tensorflow_version has no effect.\n",
            "Tensorflow version 2.12.0\n",
            "Running on TPU  ['10.74.228.114:8470']\n"
          ]
        },
        {
          "output_type": "stream",
          "name": "stderr",
          "text": [
            "WARNING:tensorflow:TPU system grpc://10.74.228.114:8470 has already been initialized. Reinitializing the TPU can cause previously created variables on TPU to be lost.\n"
          ]
        }
      ],
      "source": [
        "#https://www.tensorflow.org/guide/tpu\n",
        "#https://colab.research.google.com/github/tensorflow/docs/blob/master/site/en/guide/tpu.ipynb\n",
        "#https://colab.research.google.com/notebooks/tpu.ipynb#scrollTo=_pQCOmISAQBu\n",
        "\n",
        "%tensorflow_version 2.x\n",
        "import tensorflow as tf\n",
        "print(\"Tensorflow version \" + tf.__version__)\n",
        "\n",
        "try:\n",
        "  tpu = tf.distribute.cluster_resolver.TPUClusterResolver()  # TPU detection\n",
        "  print('Running on TPU ', tpu.cluster_spec().as_dict()['worker'])\n",
        "except ValueError:\n",
        "  raise BaseException('ERROR: Not connected to a TPU runtime; please see the previous cell in this notebook for instructions!')\n",
        "\n",
        "tf.config.experimental_connect_to_cluster(tpu)\n",
        "tf.tpu.experimental.initialize_tpu_system(tpu)\n",
        "tpu_strategy = tf.distribute.TPUStrategy(tpu)"
      ]
    },
    {
      "cell_type": "markdown",
      "source": [
        "## yedroudj_Net"
      ],
      "metadata": {
        "id": "FoopVm6YplcX"
      }
    },
    {
      "cell_type": "code",
      "source": [
        "##Orginal Code :Strategy to improve the accuracy of convolutional neural network architectures applied to digital image steganalysis in the spatial domain\n",
        "## https://github.com/BioAITeam/Strategy-to-improve-CNN-applied-to-digital-image-steganalysis-in-the-spatial-domain\n",
        "\n",
        "def yedroudj_Net():\n",
        "\n",
        "    img_size= 256\n",
        "    print (\"using\",2,\"classes\")\n",
        "\n",
        "\n",
        "\n",
        "    # Preprocessing\n",
        "    inputs = Input(shape=(img_size,img_size,1), name=\"input_1\")\n",
        "    layers = Conv2D(30, (5,5), weights=[srm_weights,biasSRM], strides=(1,1),padding=\"same\", trainable=False, use_bias=True)(inputs)\n",
        "    layers = Thtanh(th=3.0, trainable=False)(layers)\n",
        "\n",
        "\n",
        "    # Block 1\n",
        "\n",
        "    #Layer 0\n",
        "    layers = Conv2D(30, (5,5), strides=(1,1),padding=\"same\", kernel_initializer='glorot_normal', kernel_regularizer=tf.keras.regularizers.l2(0.0001),bias_regularizer=tf.keras.regularizers.l2(0.0001))(layers)\n",
        "    layers = ReLU(negative_slope=0.1, threshold=0)(layers)\n",
        "    layers = Lambda(tf.keras.backend.abs)(layers)\n",
        "    layers = BatchNormalization(momentum=0.2, epsilon=0.001, center=True, scale=True, trainable=True, fused=None, renorm=False, renorm_clipping=None, renorm_momentum=0.4, adjustment=None)(layers)\n",
        "    layers = Concatenate()([layers, layers, layers])\n",
        "\n",
        "    # Block 2\n",
        "\n",
        "    #Layer 1\n",
        "    layers = tf.keras.layers.SpatialDropout2D(rate=0.1)(layers)\n",
        "    layers = Conv2D(30, (5,5), strides=1,padding=\"same\", kernel_initializer='glorot_normal',kernel_regularizer=tf.keras.regularizers.l2(0.0001),bias_regularizer=tf.keras.regularizers.l2(0.0001))(layers)\n",
        "    layers = ReLU(negative_slope=0.1, threshold=0)(layers)\n",
        "    layers = tf.keras.layers.Lambda(tf.keras.backend.abs)(layers)\n",
        "    layers = BatchNormalization(momentum=0.2, epsilon=0.001, center=True, scale=True, trainable=True, fused=None, renorm=False, renorm_clipping=None, renorm_momentum=0.4, adjustment=None)(layers)\n",
        "    layers = AveragePooling2D((5,5), strides= 2, padding='same')(layers)\n",
        "\n",
        "    # Block 3\n",
        "\n",
        "    #Layer 2\n",
        "    layers = tf.keras.layers.SpatialDropout2D(rate=0.1)(layers)\n",
        "    layers = Conv2D(32, (3,3), strides=1,padding=\"same\", kernel_initializer='glorot_normal',kernel_regularizer=tf.keras.regularizers.l2(0.0001),bias_regularizer=tf.keras.regularizers.l2(0.0001))(layers)\n",
        "    layers = ReLU(negative_slope=0.1, threshold=0)(layers)\n",
        "    layers = tf.keras.layers.Lambda(tf.keras.backend.abs)(layers)\n",
        "    layers = BatchNormalization(momentum=0.2, epsilon=0.001, center=True, scale=False, trainable=True, fused=None, renorm=False, renorm_clipping=None, renorm_momentum=0.4, adjustment=None)(layers)\n",
        "    layers = AveragePooling2D((5,5), strides= 2,padding=\"same\")(layers)\n",
        "\n",
        "    # Block 4\n",
        "    #Layer 3\n",
        "    layers = tf.keras.layers.SpatialDropout2D(rate=0.1)(layers)\n",
        "    layers = Conv2D(64, (3,3), strides=1,padding=\"same\", kernel_initializer='glorot_normal',kernel_regularizer=tf.keras.regularizers.l2(0.0001),bias_regularizer=tf.keras.regularizers.l2(0.0001))(layers)\n",
        "    layers = ReLU(negative_slope=0.1, threshold=0)(layers)\n",
        "    layers = tf.keras.layers.Lambda(tf.keras.backend.abs)(layers)\n",
        "    layers = BatchNormalization(momentum=0.2, epsilon=0.001, center=True, scale=False, trainable=True, fused=None, renorm=False, renorm_clipping=None, renorm_momentum=0.4, adjustment=None)(layers)\n",
        "    layers = AveragePooling2D((5,5), strides=2,padding=\"same\")(layers)\n",
        "    # Block 5\n",
        "    #Layer 4\n",
        "    layers = tf.keras.layers.SpatialDropout2D(rate=0.1)(layers)\n",
        "    layers = Conv2D(128, (3,3), strides=1,padding=\"same\", kernel_initializer='glorot_normal',kernel_regularizer=tf.keras.regularizers.l2(0.0001),bias_regularizer=tf.keras.regularizers.l2(0.0001))(layers)\n",
        "    layers = ReLU(negative_slope=0.1, threshold=0)(layers)\n",
        "    layers = tf.keras.layers.Lambda(tf.keras.backend.abs)(layers)\n",
        "    layers = BatchNormalization(momentum=0.2, epsilon=0.001, center=True, scale=False, trainable=True, fused=None, renorm=False, renorm_clipping=None, renorm_momentum=0.4, adjustment=None)(layers)\n",
        "    layers = Concatenate()([layers, layers, layers])\n",
        "    layers = GlobalAveragePooling2D(data_format=\"channels_last\")(layers)\n",
        "\n",
        "    # Block 6\n",
        "    #Layer 5, FC, Softmax\n",
        "\n",
        "    # FC\n",
        "    layers = Dense(128,kernel_initializer='glorot_normal',kernel_regularizer=tf.keras.regularizers.l2(0.0001),bias_regularizer=tf.keras.regularizers.l2(0.0001))(layers)\n",
        "    layers = ReLU(negative_slope=0.1, threshold=0)(layers)\n",
        "    layers = Dense(64,kernel_initializer='glorot_normal',kernel_regularizer=tf.keras.regularizers.l2(0.0001),bias_regularizer=tf.keras.regularizers.l2(0.0001))(layers)\n",
        "    layers = ReLU(negative_slope=0.1, threshold=0)(layers)\n",
        "    layers = Dense(32,kernel_initializer='glorot_normal',kernel_regularizer=tf.keras.regularizers.l2(0.0001),bias_regularizer=tf.keras.regularizers.l2(0.0001))(layers)\n",
        "    layers = ReLU(negative_slope=0.1, threshold=0)(layers)\n",
        "\n",
        "    # Softmax\n",
        "    predictions = Dense(2, activation=\"softmax\", name=\"output_1\",kernel_regularizer=tf.keras.regularizers.l2(0.0001),bias_regularizer=tf.keras.regularizers.l2(0.0001))(layers)\n",
        "    model = Model(inputs = inputs, outputs=predictions)\n",
        "    # Compile\n",
        "    optimizer = tf.keras.optimizers.SGD(learning_rate=0.005, momentum=0.95)#lrate\n",
        "\n",
        "    if compile:\n",
        "        model.compile(optimizer= optimizer,\n",
        "                      loss='binary_crossentropy',\n",
        "                      metrics=['accuracy'])\n",
        "        print (\"Yedroud-net model generated\")\n",
        "    return model"
      ],
      "metadata": {
        "id": "eGSSc9ZTNvS6"
      },
      "execution_count": null,
      "outputs": []
    },
    {
      "cell_type": "code",
      "source": [
        "##  yedroudj_Net with LSTM classifier\n",
        "\n",
        "def yedroudj_Net( ):\n",
        "\n",
        "\n",
        "    img_size= 256\n",
        "    print (\"using\",2,\"classes\")\n",
        "\n",
        "\n",
        "\n",
        "    # Preprocessing\n",
        "    inputs = Input(shape=(img_size,img_size,1), name=\"input_1\")\n",
        "    layers = Conv2D(30, (5,5), weights=[srm_weights,biasSRM], strides=(1,1),padding=\"same\", trainable=False, use_bias=True)(inputs)\n",
        "    layers = Thtanh(th=3.0, trainable=False)(layers)\n",
        "\n",
        "\n",
        "    # Block 1\n",
        "\n",
        "    #Layer 0\n",
        "    layers = Conv2D(30, (5,5), strides=(1,1),padding=\"same\", kernel_initializer='glorot_normal', kernel_regularizer=tf.keras.regularizers.l2(0.0001),bias_regularizer=tf.keras.regularizers.l2(0.0001))(layers)\n",
        "    layers = ReLU(negative_slope=0.1, threshold=0)(layers)\n",
        "    layers = Lambda(tf.keras.backend.abs)(layers)\n",
        "    layers = BatchNormalization(momentum=0.2, epsilon=0.001, center=True, scale=True, trainable=True, fused=None, renorm=False, renorm_clipping=None, renorm_momentum=0.4, adjustment=None)(layers)\n",
        "    layers = Concatenate()([layers, layers, layers])\n",
        "\n",
        "    # Block 2\n",
        "\n",
        "    #Layer 1\n",
        "    layers = tf.keras.layers.SpatialDropout2D(rate=0.1)(layers)\n",
        "    layers = Conv2D(30, (5,5), strides=1,padding=\"same\", kernel_initializer='glorot_normal',kernel_regularizer=tf.keras.regularizers.l2(0.0001),bias_regularizer=tf.keras.regularizers.l2(0.0001))(layers)\n",
        "    layers = ReLU(negative_slope=0.1, threshold=0)(layers)\n",
        "    layers = tf.keras.layers.Lambda(tf.keras.backend.abs)(layers)\n",
        "    layers = BatchNormalization(momentum=0.2, epsilon=0.001, center=True, scale=True, trainable=True, fused=None, renorm=False, renorm_clipping=None, renorm_momentum=0.4, adjustment=None)(layers)\n",
        "    layers = AveragePooling2D((5,5), strides= 2, padding='same')(layers)\n",
        "\n",
        "    # Block 3\n",
        "\n",
        "    #Layer 2\n",
        "    layers = tf.keras.layers.SpatialDropout2D(rate=0.1)(layers)\n",
        "    layers = Conv2D(32, (3,3), strides=1,padding=\"same\", kernel_initializer='glorot_normal',kernel_regularizer=tf.keras.regularizers.l2(0.0001),bias_regularizer=tf.keras.regularizers.l2(0.0001))(layers)\n",
        "    layers = ReLU(negative_slope=0.1, threshold=0)(layers)\n",
        "    layers = tf.keras.layers.Lambda(tf.keras.backend.abs)(layers)\n",
        "    layers = BatchNormalization(momentum=0.2, epsilon=0.001, center=True, scale=False, trainable=True, fused=None, renorm=False, renorm_clipping=None, renorm_momentum=0.4, adjustment=None)(layers)\n",
        "    layers = AveragePooling2D((5,5), strides= 2,padding=\"same\")(layers)\n",
        "\n",
        "    # Block 4\n",
        "    #Layer 3\n",
        "    layers = tf.keras.layers.SpatialDropout2D(rate=0.1)(layers)\n",
        "    layers = Conv2D(64, (3,3), strides=1,padding=\"same\", kernel_initializer='glorot_normal',kernel_regularizer=tf.keras.regularizers.l2(0.0001),bias_regularizer=tf.keras.regularizers.l2(0.0001))(layers)\n",
        "    layers = ReLU(negative_slope=0.1, threshold=0)(layers)\n",
        "    layers = tf.keras.layers.Lambda(tf.keras.backend.abs)(layers)\n",
        "    layers = BatchNormalization(momentum=0.2, epsilon=0.001, center=True, scale=False, trainable=True, fused=None, renorm=False, renorm_clipping=None, renorm_momentum=0.4, adjustment=None)(layers)\n",
        "    layers = AveragePooling2D((5,5), strides=2,padding=\"same\")(layers)\n",
        "    # Block 5\n",
        "    #Layer 4\n",
        "    layers = tf.keras.layers.SpatialDropout2D(rate=0.1)(layers)\n",
        "    layers = Conv2D(128, (3,3), strides=1,padding=\"same\", kernel_initializer='glorot_normal',kernel_regularizer=tf.keras.regularizers.l2(0.0001),bias_regularizer=tf.keras.regularizers.l2(0.0001))(layers)\n",
        "    layers = ReLU(negative_slope=0.1, threshold=0)(layers)\n",
        "    layers = tf.keras.layers.Lambda(tf.keras.backend.abs)(layers)\n",
        "    layers = BatchNormalization(momentum=0.2, epsilon=0.001, center=True, scale=False, trainable=True, fused=None, renorm=False, renorm_clipping=None, renorm_momentum=0.4, adjustment=None)(layers)\n",
        "    layers = Concatenate()([layers, layers, layers])\n",
        "\n",
        "    layers = tf.keras.layers.AveragePooling2D((5,5), strides= (2,2))(layers)\n",
        "\n",
        "    layers = Reshape((14*14,384))(layers)\n",
        "\n",
        "    # LSTM\n",
        "    layers = LSTM(128,kernel_initializer='glorot_normal',kernel_regularizer=tf.keras.regularizers.l2(0.0001),bias_regularizer=tf.keras.regularizers.l2(0.0001),return_sequences=True, trainable=False)(layers)\n",
        "    layers = ReLU(negative_slope=0.1, threshold=0)(layers)\n",
        "    layers = LSTM(64,kernel_initializer='glorot_normal',kernel_regularizer=tf.keras.regularizers.l2(0.0001),bias_regularizer=tf.keras.regularizers.l2(0.0001),return_sequences=True, trainable=False)(layers)\n",
        "    layers = ReLU(negative_slope=0.1, threshold=0)(layers)\n",
        "    layers = LSTM(32,kernel_initializer='glorot_normal',kernel_regularizer=tf.keras.regularizers.l2(0.0001),bias_regularizer=tf.keras.regularizers.l2(0.0001),return_sequences=True, trainable=False)(layers)\n",
        "    layers = ReLU(negative_slope=0.1, threshold=0)(layers)\n",
        "\n",
        "    #layers = GlobalAveragePooling1D(data_format=\"channels_last\")(layers)\n",
        "    layers = Flatten(name=\"flatten\")(layers)\n",
        "\n",
        "    # Softmax\n",
        "    predictions = Dense(2, activation=\"softmax\", name=\"output_1\",kernel_regularizer=tf.keras.regularizers.l2(0.0001),bias_regularizer=tf.keras.regularizers.l2(0.0001))(layers)\n",
        "    model = Model(inputs = inputs, outputs=predictions)\n",
        "    # Compile\n",
        "    #optimizer = tf.optimizers.RMSprop(lr=0.0001, decay=1e-6)\n",
        "    #optimizer = tf.keras.optimizers.SGD(learning_rate=0.005, momentum=0.95)#lrate\n",
        "    optimizer= tf.optimizers.Adam(lr=0.001, beta_1=0.9, beta_2=0.999, epsilon=1e-08, decay=0.0)\n",
        "\n",
        "\n",
        "    if compile:\n",
        "        model.compile(optimizer= optimizer,\n",
        "                      loss='binary_crossentropy',\n",
        "                      metrics=['accuracy'])\n",
        "        print (\"Yedroud-net model generated\")\n",
        "    return model"
      ],
      "metadata": {
        "id": "L7e2O4DrsM_2"
      },
      "execution_count": null,
      "outputs": []
    },
    {
      "cell_type": "markdown",
      "source": [
        "## Ye_Net"
      ],
      "metadata": {
        "id": "5IVvyv0NprUq"
      }
    },
    {
      "cell_type": "code",
      "source": [
        "##Orginal Code : Strategy to improve the accuracy of convolutional neural network architectures applied to digital image steganalysis in the spatial domain\n",
        "## https://github.com/BioAITeam/Strategy-to-improve-CNN-applied-to-digital-image-steganalysis-in-the-spatial-domain\n",
        "def Ye_Net():\n",
        "\n",
        "    img_size=256\n",
        "    #Inputs\n",
        "    inputs = tf.keras.Input(shape=(img_size,img_size,1), name=\"input_1\")\n",
        "    print(inputs.shape)\n",
        "\n",
        "    #Block 1\n",
        "    layers = tf.keras.layers.Conv2D(30, (5,5), weights=[srm_weights,biasSRM], strides=(1,1), trainable=False, activation=Tanh3, use_bias=True)(inputs)\n",
        "    #layers = tf.keras.layers.Lambda(tf.keras.backend.abs)(layers)\n",
        "    #layer1 = tf.keras.layers.BatchNormalization(momentum=0.2, epsilon=0.001, center=True, scale=False, trainable=True, fused=None, renorm=False, renorm_clipping=None, renorm_momentum=0.4, adjustment=None)(layers)\n",
        "    print(layers.shape)\n",
        "\n",
        "    #Block 2\n",
        "\n",
        "    #layers = tf.keras.layers.SpatialDropout2D(rate=0.1)(layers)\n",
        "\n",
        "    layers = tf.keras.layers.Conv2D(30, (3,3), strides=(1,1), kernel_initializer='glorot_normal',kernel_regularizer=tf.keras.regularizers.l2(0.0001),bias_regularizer=tf.keras.regularizers.l2(0.0001))(layers)\n",
        "    layers = ReLU(negative_slope=0.1, threshold=0)(layers)\n",
        "    layers = tf.keras.layers.Lambda(tf.keras.backend.abs)(layers)\n",
        "    layers = tf.keras.layers.BatchNormalization(momentum=0.2, epsilon=0.001, center=True, scale=False, trainable=True, fused=None, renorm=False, renorm_clipping=None, renorm_momentum=0.4, adjustment=None)(layers)\n",
        "    layers = tf.keras.layers.Concatenate()([layers, layers, layers])\n",
        "    print(layers.shape)\n",
        "\n",
        "    #Block 3\n",
        "    layers = tf.keras.layers.SpatialDropout2D(rate=0.1)(layers)\n",
        "    layers = tf.keras.layers.Conv2D(30, (3,3), strides=(1,1), kernel_initializer='glorot_normal',kernel_regularizer=tf.keras.regularizers.l2(0.0001),bias_regularizer=tf.keras.regularizers.l2(0.0001))(layers)\n",
        "    layers = ReLU(negative_slope=0.1, threshold=0)(layers)\n",
        "    layers = tf.keras.layers.Lambda(tf.keras.backend.abs)(layers)\n",
        "    layers = tf.keras.layers.BatchNormalization(momentum=0.2, epsilon=0.001, center=True, scale=False, trainable=True, fused=None, renorm=False, renorm_clipping=None, renorm_momentum=0.4, adjustment=None)(layers)\n",
        "    print(layers.shape)\n",
        "\n",
        "    #Block 4\n",
        "    layers = tf.keras.layers.SpatialDropout2D(rate=0.1)(layers)\n",
        "    layers = tf.keras.layers.Conv2D(30, (3,3), strides=(1,1), kernel_initializer='glorot_normal',kernel_regularizer=tf.keras.regularizers.l2(0.0001),bias_regularizer=tf.keras.regularizers.l2(0.0001))(layers)\n",
        "    layers = ReLU(negative_slope=0.1, threshold=0)(layers)\n",
        "    layers = tf.keras.layers.Lambda(tf.keras.backend.abs)(layers)\n",
        "    layers = tf.keras.layers.BatchNormalization(momentum=0.2, epsilon=0.001, center=True, scale=False, trainable=True, fused=None, renorm=False, renorm_clipping=None, renorm_momentum=0.4, adjustment=None)(layers)\n",
        "    layers = tf.keras.layers.AveragePooling2D((2,2), strides= (2,2))(layers)\n",
        "    print(layers.shape)\n",
        "\n",
        "    #Block 5\n",
        "    layers = tf.keras.layers.SpatialDropout2D(rate=0.1)(layers)\n",
        "    layers = tf.keras.layers.Conv2D(32, (5,5), strides=(1,1), kernel_initializer='glorot_normal',kernel_regularizer=tf.keras.regularizers.l2(0.0001),bias_regularizer=tf.keras.regularizers.l2(0.0001))(layers)\n",
        "    layers = ReLU(negative_slope=0.1, threshold=0)(layers)\n",
        "    layers = tf.keras.layers.Lambda(tf.keras.backend.abs)(layers)\n",
        "    layers = tf.keras.layers.BatchNormalization(momentum=0.2, epsilon=0.001, center=True, scale=False, trainable=True, fused=None, renorm=False, renorm_clipping=None, renorm_momentum=0.4, adjustment=None)(layers)\n",
        "    print(layers.shape)\n",
        "\n",
        "    #Block 6\n",
        "    layers = tf.keras.layers.Concatenate()([layers, layers, layers])\n",
        "    layers = tf.keras.layers.GlobalAveragePooling2D(data_format=\"channels_last\")(layers)\n",
        "\n",
        "    layers = tf.keras.layers.Dense(128,kernel_initializer='glorot_normal',kernel_regularizer=tf.keras.regularizers.l2(0.0001),bias_regularizer=tf.keras.regularizers.l2(0.0001))(layers)\n",
        "    layers = ReLU(negative_slope=0.1, threshold=0)(layers)\n",
        "    #layers = tf.keras.layers.Dropout(0.2)(layers)\n",
        "    layers = tf.keras.layers.Dense(64,kernel_initializer='glorot_normal',kernel_regularizer=tf.keras.regularizers.l2(0.0001),bias_regularizer=tf.keras.regularizers.l2(0.0001))(layers)\n",
        "    layers = ReLU(negative_slope=0.1, threshold=0)(layers)\n",
        "    #layers = tf.keras.layers.Dropout(0.2)(layers)\n",
        "    layers = tf.keras.layers.Dense(32,kernel_initializer='glorot_normal',kernel_regularizer=tf.keras.regularizers.l2(0.0001),bias_regularizer=tf.keras.regularizers.l2(0.0001))(layers)\n",
        "    layers = ReLU(negative_slope=0.1, threshold=0)(layers)\n",
        "    predictions = tf.keras.layers.Dense(2,kernel_initializer='glorot_normal', activation=\"softmax\", name=\"output_1\",kernel_regularizer=tf.keras.regularizers.l2(0.0001),bias_regularizer=tf.keras.regularizers.l2(0.0001))(layers)\n",
        "    print(predictions.shape)\n",
        "\n",
        "    #Model generation\n",
        "    model = tf.keras.Model(inputs = inputs, outputs=predictions)\n",
        "    #Optimizer\n",
        "    optimizer = tf.keras.optimizers.SGD(learning_rate=0.005, momentum=0.95)#lrate\n",
        "    #Compilator\n",
        "    model.compile(optimizer=optimizer, loss='binary_crossentropy', metrics=['accuracy'])\n",
        "\n",
        "    print (\"Ye-net model 2 generated\")\n",
        "    return model"
      ],
      "metadata": {
        "id": "Do5sf5rFssB4"
      },
      "execution_count": null,
      "outputs": []
    },
    {
      "cell_type": "code",
      "execution_count": null,
      "metadata": {
        "id": "SznXx_ZW_rD4"
      },
      "outputs": [],
      "source": [
        "##Ye_Net with LSTM\n",
        "def Ye_Net():\n",
        "\n",
        "    img_size=256\n",
        "    #Inputs\n",
        "    inputs = tf.keras.Input(shape=(img_size,img_size,1), name=\"input_1\")\n",
        "\n",
        "\n",
        "    #Block 1\n",
        "    layers = tf.keras.layers.Conv2D(30, (5,5), weights=[srm_weights,biasSRM], strides=(1,1), trainable=False, activation=Tanh3, use_bias=True)(inputs)\n",
        "\n",
        "\n",
        "\n",
        "    #Block 2\n",
        "\n",
        "    layers = tf.keras.layers.Conv2D(30, (3,3), strides=(1,1), kernel_initializer='glorot_normal',kernel_regularizer=tf.keras.regularizers.l2(0.0001),bias_regularizer=tf.keras.regularizers.l2(0.0001))(layers)\n",
        "    layers = ReLU(negative_slope=0.1, threshold=0)(layers)\n",
        "    layers = tf.keras.layers.Lambda(tf.keras.backend.abs)(layers)\n",
        "    layers = tf.keras.layers.BatchNormalization(momentum=0.2, epsilon=0.001, center=True, scale=False, trainable=True, fused=None, renorm=False, renorm_clipping=None, renorm_momentum=0.4, adjustment=None)(layers)\n",
        "    layers = tf.keras.layers.Concatenate()([layers, layers, layers])\n",
        "\n",
        "\n",
        "    #Block 3\n",
        "    layers = tf.keras.layers.SpatialDropout2D(rate=0.1)(layers)\n",
        "    layers = tf.keras.layers.Conv2D(30, (3,3), strides=(1,1), kernel_initializer='glorot_normal',kernel_regularizer=tf.keras.regularizers.l2(0.0001),bias_regularizer=tf.keras.regularizers.l2(0.0001))(layers)\n",
        "    layers = ReLU(negative_slope=0.1, threshold=0)(layers)\n",
        "    layers = tf.keras.layers.Lambda(tf.keras.backend.abs)(layers)\n",
        "    layers = tf.keras.layers.BatchNormalization(momentum=0.2, epsilon=0.001, center=True, scale=False, trainable=True, fused=None, renorm=False, renorm_clipping=None, renorm_momentum=0.4, adjustment=None)(layers)\n",
        "\n",
        "\n",
        "    #Block 4\n",
        "    layers = tf.keras.layers.SpatialDropout2D(rate=0.1)(layers)\n",
        "    layers = tf.keras.layers.Conv2D(30, (3,3), strides=(1,1), kernel_initializer='glorot_normal',kernel_regularizer=tf.keras.regularizers.l2(0.0001),bias_regularizer=tf.keras.regularizers.l2(0.0001))(layers)\n",
        "    layers = ReLU(negative_slope=0.1, threshold=0)(layers)\n",
        "    layers = tf.keras.layers.Lambda(tf.keras.backend.abs)(layers)\n",
        "    layers = tf.keras.layers.BatchNormalization(momentum=0.2, epsilon=0.001, center=True, scale=False, trainable=True, fused=None, renorm=False, renorm_clipping=None, renorm_momentum=0.4, adjustment=None)(layers)\n",
        "    layers = tf.keras.layers.AveragePooling2D((2,2), strides= (2,2))(layers)\n",
        "\n",
        "\n",
        "    #Block 5\n",
        "    layers = tf.keras.layers.SpatialDropout2D(rate=0.1)(layers)\n",
        "    layers = tf.keras.layers.Conv2D(32, (5,5), strides=(1,1), kernel_initializer='glorot_normal',kernel_regularizer=tf.keras.regularizers.l2(0.0001),bias_regularizer=tf.keras.regularizers.l2(0.0001))(layers)\n",
        "    layers = ReLU(negative_slope=0.1, threshold=0)(layers)\n",
        "    layers = tf.keras.layers.Lambda(tf.keras.backend.abs)(layers)\n",
        "    layers = tf.keras.layers.BatchNormalization(momentum=0.2, epsilon=0.001, center=True, scale=False, trainable=True, fused=None, renorm=False, renorm_clipping=None, renorm_momentum=0.4, adjustment=None)(layers)\n",
        "\n",
        "\n",
        "    #Block 6\n",
        "    layers = tf.keras.layers.Concatenate()([layers, layers, layers])\n",
        "\n",
        "    layers = tf.keras.layers.AveragePooling2D((5,5), strides= (2,2))(layers)\n",
        "\n",
        "    layers = Reshape((58*58,96))(layers)\n",
        "    # LSTM\n",
        "    layers = LSTM(32,kernel_initializer='glorot_normal',kernel_regularizer=tf.keras.regularizers.l2(0.0001),bias_regularizer=tf.keras.regularizers.l2(0.0001),return_sequences=True, trainable=False)(layers)\n",
        "    layers = ReLU(negative_slope=0.1, threshold=0)(layers)\n",
        "    layers = LSTM(16,kernel_initializer='glorot_normal',kernel_regularizer=tf.keras.regularizers.l2(0.0001),bias_regularizer=tf.keras.regularizers.l2(0.0001),return_sequences=True, trainable=False)(layers)\n",
        "    layers = ReLU(negative_slope=0.1, threshold=0)(layers)\n",
        "    layers = LSTM(8,kernel_initializer='glorot_normal',kernel_regularizer=tf.keras.regularizers.l2(0.0001),bias_regularizer=tf.keras.regularizers.l2(0.0001),return_sequences=True, trainable=False)(layers)\n",
        "    layers = ReLU(negative_slope=0.1, threshold=0)(layers)\n",
        "\n",
        "    #layers = GlobalAveragePooling1D(data_format=\"channels_last\")(layers)\n",
        "    layers = Flatten(name=\"flatten\")(layers)\n",
        "\n",
        "\n",
        "\n",
        "    predictions = tf.keras.layers.Dense(2,kernel_initializer='glorot_normal', activation=\"softmax\", name=\"output_1\",kernel_regularizer=tf.keras.regularizers.l2(0.0001),bias_regularizer=tf.keras.regularizers.l2(0.0001))(layers)\n",
        "\n",
        "\n",
        "    #Model generation\n",
        "    model = tf.keras.Model(inputs = inputs, outputs=predictions)\n",
        "    #Optimizer\n",
        "    optimizer= tf.keras.optimizers.legacy.Adam(learning_rate=0.001, beta_1=0.9, beta_2=0.999, epsilon=1e-08, decay=0.0)\n",
        "    #Compilator\n",
        "    model.compile(optimizer=optimizer, loss='binary_crossentropy', metrics=['accuracy'])\n",
        "\n",
        "    print (\"Ye-net model 2 generated\")\n",
        "    return model"
      ]
    },
    {
      "cell_type": "markdown",
      "source": [
        "## Xu_Net"
      ],
      "metadata": {
        "id": "ukNFndcRpvgM"
      }
    },
    {
      "cell_type": "code",
      "source": [
        "##Orginal Code :Strategy to improve the accuracy of convolutional neural network architectures applied to digital image steganalysis in the spatial domain\n",
        "## https://github.com/BioAITeam/Strategy-to-improve-CNN-applied-to-digital-image-steganalysis-in-the-spatial-domain\n",
        "def Xu_Net():\n",
        "\n",
        "    img_size= 256\n",
        "\n",
        "    #tf.reset_default_graph()\n",
        "\n",
        "    print (\"using\",2,\"classes\")\n",
        "\n",
        "    #Preprocessing\n",
        "    inputs = tf.keras.Input(shape=(img_size,img_size,1), name=\"input_1\")\n",
        "    layers = tf.keras.layers.Conv2D(30, (5,5), weights=[srm_weights,biasSRM], strides=(1,1), trainable=False, activation=Tanh3, use_bias=True)(inputs)\n",
        "\n",
        "\n",
        "\n",
        "    #Block 1\n",
        "\n",
        "    #Layer 0\n",
        "    layers = Conv2D(8, (5,5), strides=(1,1),padding=\"same\", kernel_initializer='glorot_normal', kernel_regularizer=tf.keras.regularizers.l2(0.0001),bias_regularizer=tf.keras.regularizers.l2(0.0001))(layers)\n",
        "    layers = ReLU(negative_slope=0.1, threshold=0)(layers)\n",
        "    layers = Lambda(tf.keras.backend.abs)(layers)\n",
        "    layers = BatchNormalization(momentum=0.2, epsilon=0.001, center=True, scale=True, trainable=True, fused=None, renorm=False, renorm_clipping=None, renorm_momentum=0.4, adjustment=None)(layers)\n",
        "    layers = Concatenate()([layers, layers, layers])\n",
        "\n",
        "    #Block 2\n",
        "\n",
        "    #Layer 1\n",
        "    layers = tf.keras.layers.SpatialDropout2D(rate=0.1)(layers)\n",
        "    layers = Conv2D(16, (5,5), strides=1,padding=\"same\", kernel_initializer='glorot_normal',kernel_regularizer=tf.keras.regularizers.l2(0.0001),bias_regularizer=tf.keras.regularizers.l2(0.0001))(layers)\n",
        "    layers = ReLU(negative_slope=0.1, threshold=0)(layers)\n",
        "    layers = tf.keras.layers.Lambda(tf.keras.backend.abs)(layers)\n",
        "    layers = BatchNormalization(momentum=0.2, epsilon=0.001, center=True, scale=True, trainable=True, fused=None, renorm=False, renorm_clipping=None, renorm_momentum=0.4, adjustment=None)(layers)\n",
        "    layers = AveragePooling2D((5,5), strides= 2, padding='same')(layers)\n",
        "\n",
        "    #Block 3\n",
        "\n",
        "    #Layer 2\n",
        "    layers = tf.keras.layers.SpatialDropout2D(rate=0.1)(layers)\n",
        "    layers = Conv2D(32, (1,1), strides=1,padding=\"same\", kernel_initializer='glorot_normal',kernel_regularizer=tf.keras.regularizers.l2(0.0001),bias_regularizer=tf.keras.regularizers.l2(0.0001))(layers)\n",
        "    layers = ReLU(negative_slope=0.1, threshold=0)(layers)\n",
        "    layers = tf.keras.layers.Lambda(tf.keras.backend.abs)(layers)\n",
        "    layers = BatchNormalization(momentum=0.2, epsilon=0.001, center=True, scale=False, trainable=True, fused=None, renorm=False, renorm_clipping=None, renorm_momentum=0.4, adjustment=None)(layers)\n",
        "    layers = AveragePooling2D((5,5), strides= 2,padding=\"same\")(layers)\n",
        "\n",
        "    #Block 4\n",
        "    #Layer 3\n",
        "    layers = tf.keras.layers.SpatialDropout2D(rate=0.1)(layers)\n",
        "    layers = Conv2D(64, (1,1), strides=1,padding=\"same\", kernel_initializer='glorot_normal',kernel_regularizer=tf.keras.regularizers.l2(0.0001),bias_regularizer=tf.keras.regularizers.l2(0.0001))(layers)\n",
        "    layers = ReLU(negative_slope=0.1, threshold=0)(layers)\n",
        "    layers = tf.keras.layers.Lambda(tf.keras.backend.abs)(layers)\n",
        "    layers = BatchNormalization(momentum=0.2, epsilon=0.001, center=True, scale=False, trainable=True, fused=None, renorm=False, renorm_clipping=None, renorm_momentum=0.4, adjustment=None)(layers)\n",
        "    layers = AveragePooling2D((5,5), strides=2,padding=\"same\")(layers)\n",
        "    #Block 5\n",
        "    #Layer 4\n",
        "    layers = tf.keras.layers.SpatialDropout2D(rate=0.1)(layers)\n",
        "    layers = Conv2D(128, (1,1), strides=1,padding=\"same\", kernel_initializer='glorot_normal',kernel_regularizer=tf.keras.regularizers.l2(0.0001),bias_regularizer=tf.keras.regularizers.l2(0.0001))(layers)\n",
        "    layers = ReLU(negative_slope=0.1, threshold=0)(layers)\n",
        "    layers = tf.keras.layers.Lambda(tf.keras.backend.abs)(layers)\n",
        "    layers = BatchNormalization(momentum=0.2, epsilon=0.001, center=True, scale=False, trainable=True, fused=None, renorm=False, renorm_clipping=None, renorm_momentum=0.4, adjustment=None)(layers)\n",
        "    layers = Concatenate()([layers, layers, layers])\n",
        "    layers = GlobalAveragePooling2D(data_format=\"channels_last\")(layers)\n",
        "\n",
        "    #Block 6\n",
        "    #Layer 5, FC, Softmax\n",
        "\n",
        "    #FC\n",
        "    layers = Dense(128,kernel_initializer='glorot_normal',kernel_regularizer=tf.keras.regularizers.l2(0.0001),bias_regularizer=tf.keras.regularizers.l2(0.0001))(layers)\n",
        "    layers = ReLU(negative_slope=0.1, threshold=0)(layers)\n",
        "    layers = Dense(64,kernel_initializer='glorot_normal',kernel_regularizer=tf.keras.regularizers.l2(0.0001),bias_regularizer=tf.keras.regularizers.l2(0.0001))(layers)\n",
        "    layers = ReLU(negative_slope=0.1, threshold=0)(layers)\n",
        "    layers = Dense(32,kernel_initializer='glorot_normal',kernel_regularizer=tf.keras.regularizers.l2(0.0001),bias_regularizer=tf.keras.regularizers.l2(0.0001))(layers)\n",
        "    layers = ReLU(negative_slope=0.1, threshold=0)(layers)\n",
        "\n",
        "    #Softmax\n",
        "    predictions = Dense(2, activation=\"softmax\", name=\"output_1\",kernel_regularizer=tf.keras.regularizers.l2(0.0001),bias_regularizer=tf.keras.regularizers.l2(0.0001))(layers)\n",
        "    model =tf.keras.Model(inputs = inputs, outputs=predictions)\n",
        "    #Compile\n",
        "    optimizer = tf.keras.optimizers.SGD(learning_rate=0.005, momentum=0.95)\n",
        "\n",
        "    if compile:\n",
        "        model.compile(optimizer= optimizer,\n",
        "                      loss='binary_crossentropy',\n",
        "                      metrics=['accuracy'])\n",
        "        print (\"Xunet\")\n",
        "    return model"
      ],
      "metadata": {
        "id": "kLjgxbRJs50R"
      },
      "execution_count": null,
      "outputs": []
    },
    {
      "cell_type": "code",
      "execution_count": null,
      "metadata": {
        "id": "8P2M1dO35ZKa"
      },
      "outputs": [],
      "source": [
        "##Xu_Net with LSTM\n",
        "def Xu_Net( ):\n",
        "\n",
        "    #tf.reset_default_graph()\n",
        "    #tf.keras.backend.clear_session()\n",
        "    print (\"using\",2,\"classes\")\n",
        "\n",
        "    img_size=256\n",
        "\n",
        "    #Preprocessing\n",
        "    inputs = tf.keras.Input(shape=(img_size,img_size,1), name=\"input_1\")\n",
        "    layers = tf.keras.layers.Conv2D(30, (5,5), weights=[srm_weights,biasSRM], strides=(1,1), trainable=False, activation=Tanh3, use_bias=True)(inputs)\n",
        "\n",
        "\n",
        "\n",
        "    #Block 1\n",
        "\n",
        "    #Layer 0\n",
        "    layers = Conv2D(8, (5,5), strides=(1,1),padding=\"same\", kernel_initializer='glorot_normal', kernel_regularizer=tf.keras.regularizers.l2(0.0001),bias_regularizer=tf.keras.regularizers.l2(0.0001))(layers)\n",
        "    layers = ReLU(negative_slope=0.1, threshold=0)(layers)\n",
        "    layers = Lambda(tf.keras.backend.abs)(layers)\n",
        "    layers = BatchNormalization(momentum=0.2, epsilon=0.001, center=True, scale=True, trainable=True, fused=None, renorm=False, renorm_clipping=None, renorm_momentum=0.4, adjustment=None)(layers)\n",
        "    layers = Concatenate()([layers, layers, layers])\n",
        "\n",
        "    #Block 2\n",
        "\n",
        "    #Layer 1\n",
        "    layers = tf.keras.layers.SpatialDropout2D(rate=0.1)(layers)\n",
        "    layers = Conv2D(16, (5,5), strides=1,padding=\"same\", kernel_initializer='glorot_normal',kernel_regularizer=tf.keras.regularizers.l2(0.0001),bias_regularizer=tf.keras.regularizers.l2(0.0001))(layers)\n",
        "    layers = ReLU(negative_slope=0.1, threshold=0)(layers)\n",
        "    layers = tf.keras.layers.Lambda(tf.keras.backend.abs)(layers)\n",
        "    layers = BatchNormalization(momentum=0.2, epsilon=0.001, center=True, scale=True, trainable=True, fused=None, renorm=False, renorm_clipping=None, renorm_momentum=0.4, adjustment=None)(layers)\n",
        "    layers = AveragePooling2D((5,5), strides= 2, padding='same')(layers)\n",
        "\n",
        "    #Block 3\n",
        "\n",
        "    #Layer 2\n",
        "    layers = tf.keras.layers.SpatialDropout2D(rate=0.1)(layers)\n",
        "    layers = Conv2D(32, (1,1), strides=1,padding=\"same\", kernel_initializer='glorot_normal',kernel_regularizer=tf.keras.regularizers.l2(0.0001),bias_regularizer=tf.keras.regularizers.l2(0.0001))(layers)\n",
        "    layers = ReLU(negative_slope=0.1, threshold=0)(layers)\n",
        "    layers = tf.keras.layers.Lambda(tf.keras.backend.abs)(layers)\n",
        "    layers = BatchNormalization(momentum=0.2, epsilon=0.001, center=True, scale=False, trainable=True, fused=None, renorm=False, renorm_clipping=None, renorm_momentum=0.4, adjustment=None)(layers)\n",
        "    layers = AveragePooling2D((5,5), strides= 2,padding=\"same\")(layers)\n",
        "\n",
        "    #Block 4\n",
        "    #Layer 3\n",
        "    layers = tf.keras.layers.SpatialDropout2D(rate=0.1)(layers)\n",
        "    layers = Conv2D(64, (1,1), strides=1,padding=\"same\", kernel_initializer='glorot_normal',kernel_regularizer=tf.keras.regularizers.l2(0.0001),bias_regularizer=tf.keras.regularizers.l2(0.0001))(layers)\n",
        "    layers = ReLU(negative_slope=0.1, threshold=0)(layers)\n",
        "    layers = tf.keras.layers.Lambda(tf.keras.backend.abs)(layers)\n",
        "    layers = BatchNormalization(momentum=0.2, epsilon=0.001, center=True, scale=False, trainable=True, fused=None, renorm=False, renorm_clipping=None, renorm_momentum=0.4, adjustment=None)(layers)\n",
        "    layers = AveragePooling2D((5,5), strides=2,padding=\"same\")(layers)\n",
        "    #Block 5\n",
        "    #Layer 4\n",
        "    layers = tf.keras.layers.SpatialDropout2D(rate=0.1)(layers)\n",
        "    layers = Conv2D(128, (1,1), strides=1,padding=\"same\", kernel_initializer='glorot_normal',kernel_regularizer=tf.keras.regularizers.l2(0.0001),bias_regularizer=tf.keras.regularizers.l2(0.0001))(layers)\n",
        "    layers = ReLU(negative_slope=0.1, threshold=0)(layers)\n",
        "    layers = tf.keras.layers.Lambda(tf.keras.backend.abs)(layers)\n",
        "    layers = BatchNormalization(momentum=0.2, epsilon=0.001, center=True, scale=False, trainable=True, fused=None, renorm=False, renorm_clipping=None, renorm_momentum=0.4, adjustment=None)(layers)\n",
        "    layers = Concatenate()([layers, layers, layers])\n",
        "\n",
        "    layers = AveragePooling2D((5,5), strides=2,padding=\"same\")(layers)\n",
        "\n",
        "    # Block 6\n",
        "    #Layer 5, LSTM , Softmax\n",
        "    layers = Reshape((16*16,384))(layers)\n",
        "    # LSTM\n",
        "    layers = LSTM(128,kernel_initializer='glorot_normal',kernel_regularizer=tf.keras.regularizers.l2(0.0001),bias_regularizer=tf.keras.regularizers.l2(0.0001),return_sequences=True, trainable=False)(layers)\n",
        "    layers = ReLU(negative_slope=0.1, threshold=0)(layers)\n",
        "    layers = LSTM(64,kernel_initializer='glorot_normal',kernel_regularizer=tf.keras.regularizers.l2(0.0001),bias_regularizer=tf.keras.regularizers.l2(0.0001),return_sequences=True, trainable=False)(layers)\n",
        "    layers = ReLU(negative_slope=0.1, threshold=0)(layers)\n",
        "    layers = LSTM(32,kernel_initializer='glorot_normal',kernel_regularizer=tf.keras.regularizers.l2(0.0001),bias_regularizer=tf.keras.regularizers.l2(0.0001),return_sequences=True, trainable=False)(layers)\n",
        "    layers = ReLU(negative_slope=0.1, threshold=0)(layers)\n",
        "\n",
        "    layers = Flatten(name=\"flatten\")(layers)\n",
        "\n",
        "    #Softmax\n",
        "    predictions = Dense(2, activation=\"softmax\", name=\"output_1\",kernel_regularizer=tf.keras.regularizers.l2(0.0001),bias_regularizer=tf.keras.regularizers.l2(0.0001))(layers)\n",
        "    model =tf.keras.Model(inputs = inputs, outputs=predictions)\n",
        "    #Compile\n",
        "\n",
        "    optimizer= tf.keras.optimizers.legacy.Adam(learning_rate=0.001, beta_1=0.9, beta_2=0.999, epsilon=1e-08, decay=0.0)\n",
        "    if compile:\n",
        "        model.compile(optimizer= optimizer,\n",
        "                      loss='binary_crossentropy',\n",
        "                      metrics=['accuracy'])\n",
        "        print (\"Xunet\")\n",
        "    return model\n"
      ]
    },
    {
      "cell_type": "markdown",
      "source": [
        "### Zhu_Net"
      ],
      "metadata": {
        "id": "QfPZXonCp0lg"
      }
    },
    {
      "cell_type": "code",
      "source": [
        "###Orginal Code: Sensitivity of deep learning applied to spatial image steganalysis\n",
        "### https://github.com/BioAITeam/Sensitivity-of-deep-learning-applied-to-Spatial-Image-Steganalysis\n",
        "def Zhu_Net():\n",
        "\n",
        "    img_size=256\n",
        "    #Inputs\n",
        "    inputs = tf.keras.Input(shape=(img_size,img_size,1),name=\"input_1\")\n",
        "\n",
        "    #Layer 1\n",
        "    layers = tf.keras.layers.Conv2D(30, (5,5), weights=[srm_weights,biasSRM], strides=(1,1), trainable=False, activation=Tanh3, use_bias=True)(inputs)\n",
        "    layer1 = tf.keras.layers.BatchNormalization(momentum=0.2, epsilon=0.001, center=True, scale=False, trainable=True, fused=None, renorm=False, renorm_clipping=None, renorm_momentum=0.4, adjustment=None)(layers)\n",
        "\n",
        "    #Layer 2\n",
        "    layer1 = tf.keras.layers.SpatialDropout2D(rate=0.1)(layer1)\n",
        "    layer23 = tf.keras.layers.SeparableConv2D(30,(3,3),activation=\"relu\",depth_multiplier=3,padding=\"same\")(layer1)\n",
        "    layer23 = tf.keras.layers.Lambda(tf.keras.backend.abs)(layer23)\n",
        "    layer23 = tf.keras.layers.BatchNormalization(momentum=0.2, epsilon=0.001, center=True, scale=False, trainable=True, fused=None, renorm=False, renorm_clipping=None, renorm_momentum=0.4, adjustment=None)(layer23)\n",
        "\n",
        "    #Layer 3\n",
        "    layer23 = tf.keras.layers.SeparableConv2D(30,(3,3),activation=\"relu\",depth_multiplier=3,padding=\"same\")(layer23)\n",
        "    layer23 = tf.keras.layers.Lambda(tf.keras.backend.abs)(layer23)\n",
        "    layer23 = tf.keras.layers.BatchNormalization(momentum=0.2, epsilon=0.001, center=True, scale=False, trainable=True, fused=None, renorm=False, renorm_clipping=None, renorm_momentum=0.4, adjustment=None)(layer23)\n",
        "\n",
        "    #Shorcut\n",
        "    layers= tf.keras.layers.Add()([layer23, layer1])\n",
        "\n",
        "    #Layer 4\n",
        "    layers = tf.keras.layers.Conv2D(32, (3,3), strides=(1,1), activation=\"relu\", kernel_initializer='glorot_normal', padding='same')(layers)\n",
        "    layers = tf.keras.layers.Lambda(tf.keras.backend.abs)(layers)\n",
        "    layers = tf.keras.layers.BatchNormalization(momentum=0.2, epsilon=0.001, center=True, scale=False, trainable=True, fused=None, renorm=False, renorm_clipping=None, renorm_momentum=0.4, adjustment=None)(layers)\n",
        "    layers = tf.keras.layers.AveragePooling2D((5,5), strides= (2,2),padding=\"same\")(layers)\n",
        "\n",
        "    #Layer 5\n",
        "    layers = tf.keras.layers.Conv2D(32, (3,3), strides=(1,1), activation=\"relu\", kernel_initializer='glorot_normal',padding=\"same\")(layers)\n",
        "    layers = tf.keras.layers.Lambda(tf.keras.backend.abs)(layers)\n",
        "    layers = tf.keras.layers.BatchNormalization(momentum=0.2, epsilon=0.001, center=True, scale=False, trainable=True, fused=None, renorm=False, renorm_clipping=None, renorm_momentum=0.4, adjustment=None)(layers)\n",
        "    layers = tf.keras.layers.AveragePooling2D((5,5), strides= (2,2),padding=\"same\")(layers)\n",
        "\n",
        "    #Layer 6\n",
        "    layers = tf.keras.layers.Conv2D(64, (3,3), strides=(1,1), activation=\"relu\", kernel_initializer='glorot_normal',padding=\"same\")(layers)\n",
        "    layers = tf.keras.layers.Lambda(tf.keras.backend.abs)(layers)\n",
        "    layers = tf.keras.layers.BatchNormalization(momentum=0.2, epsilon=0.001, center=True, scale=False, trainable=True, fused=None, renorm=False, renorm_clipping=None, renorm_momentum=0.4, adjustment=None)(layers)\n",
        "    layers = tf.keras.layers.AveragePooling2D((5,5), strides= (2,2),padding=\"same\")(layers)\n",
        "\n",
        "    #Layer 7\n",
        "    layers = tf.keras.layers.Conv2D(128, (5,5), strides=(1,1), activation=\"relu\", kernel_initializer='glorot_normal',padding=\"same\")(layers)\n",
        "    layers = tf.keras.layers.Lambda(tf.keras.backend.abs)(layers)\n",
        "    layers = tf.keras.layers.BatchNormalization(momentum=0.2, epsilon=0.001, center=True, scale=False, trainable=True, fused=None, renorm=False, renorm_clipping=None, renorm_momentum=0.4, adjustment=None)(layers)\n",
        "\n",
        "    #Layer 8\n",
        "    layers = tf.keras.layers.GlobalAveragePooling2D(data_format=\"channels_last\")(layers)\n",
        "\n",
        "\n",
        "    #Layer 9, FC, Softmax\n",
        "    layers = tf.keras.layers.Dense(128,activation=\"relu\")(layers)\n",
        "    layers = tf.keras.layers.Dropout(0.2)(layers)\n",
        "    layers = tf.keras.layers.Dense(64 ,activation=\"relu\")(layers)\n",
        "    layers = tf.keras.layers.Dropout(0.2)(layers)\n",
        "    layers = tf.keras.layers.Dense(32 ,activation=\"relu\")(layers)\n",
        "\n",
        "    #Softmax\n",
        "    predictions = tf.keras.layers.Dense(2, activation=\"softmax\", name=\"output_1\")(layers)\n",
        "\n",
        "    #Model generation\n",
        "    model = tf.keras.Model(inputs = inputs, outputs=predictions)\n",
        "\n",
        "    #Optimizer\n",
        "    optimizer=tf.keras.optimizers.RMSprop(lr=0.001, rho=0.9)\n",
        "\n",
        "    #Compilator\n",
        "    model.compile(optimizer=optimizer, loss='binary_crossentropy', metrics=['accuracy'])\n",
        "    print (\"Zhu-net model generated\")\n",
        "    return model"
      ],
      "metadata": {
        "id": "BXA5pmPLtOJV"
      },
      "execution_count": null,
      "outputs": []
    },
    {
      "cell_type": "code",
      "execution_count": null,
      "metadata": {
        "id": "0qlpWoydhEKp"
      },
      "outputs": [],
      "source": [
        "## sensetive + LSTM\n",
        "def Zhu_Net():\n",
        "    print (\"using\",2,\"classes\")\n",
        "\n",
        "    img_size=256\n",
        "    #Inputs\n",
        "    inputs = tf.keras.Input(shape=(img_size,img_size,1),name=\"input_1\")\n",
        "\n",
        "    #Layer 1\n",
        "    layers = tf.keras.layers.Conv2D(30, (5,5), weights=[srm_weights,biasSRM], strides=(1,1), trainable=False, activation=Tanh3, use_bias=True)(inputs)\n",
        "    layer1 = tf.keras.layers.BatchNormalization(momentum=0.2, epsilon=0.001, center=True, scale=False, trainable=True, fused=None, renorm=False, renorm_clipping=None, renorm_momentum=0.4, adjustment=None)(layers)\n",
        "\n",
        "    #Layer 2\n",
        "    layer1 = tf.keras.layers.SpatialDropout2D(rate=0.1)(layer1)\n",
        "    layer23 = tf.keras.layers.SeparableConv2D(30,(3,3),activation=\"relu\",depth_multiplier=3,padding=\"same\")(layer1)\n",
        "    layer23 = tf.keras.layers.Lambda(tf.keras.backend.abs)(layer23)\n",
        "    layer23 = tf.keras.layers.BatchNormalization(momentum=0.2, epsilon=0.001, center=True, scale=False, trainable=True, fused=None, renorm=False, renorm_clipping=None, renorm_momentum=0.4, adjustment=None)(layer23)\n",
        "\n",
        "    #Layer 3\n",
        "    layer23 = tf.keras.layers.SeparableConv2D(30,(3,3),activation=\"relu\",depth_multiplier=3,padding=\"same\")(layer23)\n",
        "    layer23 = tf.keras.layers.Lambda(tf.keras.backend.abs)(layer23)\n",
        "    layer23 = tf.keras.layers.BatchNormalization(momentum=0.2, epsilon=0.001, center=True, scale=False, trainable=True, fused=None, renorm=False, renorm_clipping=None, renorm_momentum=0.4, adjustment=None)(layer23)\n",
        "\n",
        "    #Shorcut\n",
        "    layers= tf.keras.layers.Add()([layer23, layer1])\n",
        "\n",
        "    #Layer 4\n",
        "    layers = tf.keras.layers.Conv2D(32, (3,3), strides=(1,1), activation=\"relu\", kernel_initializer='glorot_normal', padding='same')(layers)\n",
        "    layers = tf.keras.layers.Lambda(tf.keras.backend.abs)(layers)\n",
        "    layers = tf.keras.layers.BatchNormalization(momentum=0.2, epsilon=0.001, center=True, scale=False, trainable=True, fused=None, renorm=False, renorm_clipping=None, renorm_momentum=0.4, adjustment=None)(layers)\n",
        "    layers = tf.keras.layers.AveragePooling2D((5,5), strides= (2,2),padding=\"same\")(layers)\n",
        "\n",
        "    #Layer 5\n",
        "    layers = tf.keras.layers.Conv2D(32, (3,3), strides=(1,1), activation=\"relu\", kernel_initializer='glorot_normal',padding=\"same\")(layers)\n",
        "    layers = tf.keras.layers.Lambda(tf.keras.backend.abs)(layers)\n",
        "    layers = tf.keras.layers.BatchNormalization(momentum=0.2, epsilon=0.001, center=True, scale=False, trainable=True, fused=None, renorm=False, renorm_clipping=None, renorm_momentum=0.4, adjustment=None)(layers)\n",
        "    layers = tf.keras.layers.AveragePooling2D((5,5), strides= (2,2),padding=\"same\")(layers)\n",
        "\n",
        "    #Layer 6\n",
        "    layers = tf.keras.layers.Conv2D(64, (3,3), strides=(1,1), activation=\"relu\", kernel_initializer='glorot_normal',padding=\"same\")(layers)\n",
        "    layers = tf.keras.layers.Lambda(tf.keras.backend.abs)(layers)\n",
        "    layers = tf.keras.layers.BatchNormalization(momentum=0.2, epsilon=0.001, center=True, scale=False, trainable=True, fused=None, renorm=False, renorm_clipping=None, renorm_momentum=0.4, adjustment=None)(layers)\n",
        "    layers = tf.keras.layers.AveragePooling2D((5,5), strides= (2,2),padding=\"same\")(layers)\n",
        "\n",
        "    #Layer 7\n",
        "    layers = tf.keras.layers.Conv2D(128, (5,5), strides=(1,1), activation=\"relu\", kernel_initializer='glorot_normal',padding=\"same\")(layers)\n",
        "    layers = tf.keras.layers.Lambda(tf.keras.backend.abs)(layers)\n",
        "    layers = tf.keras.layers.BatchNormalization(momentum=0.2, epsilon=0.001, center=True, scale=False, trainable=True, fused=None, renorm=False, renorm_clipping=None, renorm_momentum=0.4, adjustment=None)(layers)\n",
        "\n",
        "    #Layer 8\n",
        "\n",
        "    layers = tf.keras.layers.AveragePooling2D((5,5), strides= (2,2),padding=\"same\")(layers)\n",
        "\n",
        "\n",
        "    layers = Reshape((16*16,128))(layers)\n",
        "    # FC\n",
        "    layers = LSTM(128,kernel_initializer='glorot_normal',kernel_regularizer=tf.keras.regularizers.l2(0.0001),bias_regularizer=tf.keras.regularizers.l2(0.0001),return_sequences=True, trainable=False)(layers)\n",
        "    layers = ReLU(negative_slope=0.1, threshold=0)(layers)\n",
        "    layers = LSTM(64,kernel_initializer='glorot_normal',kernel_regularizer=tf.keras.regularizers.l2(0.0001),bias_regularizer=tf.keras.regularizers.l2(0.0001),return_sequences=True, trainable=False)(layers)\n",
        "    layers = ReLU(negative_slope=0.1, threshold=0)(layers)\n",
        "    layers = LSTM(32,kernel_initializer='glorot_normal',kernel_regularizer=tf.keras.regularizers.l2(0.0001),bias_regularizer=tf.keras.regularizers.l2(0.0001),return_sequences=True, trainable=False)(layers)\n",
        "    layers = ReLU(negative_slope=0.1, threshold=0)(layers)\n",
        "\n",
        "    layers = Flatten(name=\"flatten\")(layers)\n",
        "\n",
        "    #Softmax\n",
        "    predictions = tf.keras.layers.Dense(2, activation=\"softmax\", name=\"output_1\")(layers)\n",
        "\n",
        "    #Model generation\n",
        "    model = tf.keras.Model(inputs = inputs, outputs=predictions)\n",
        "\n",
        "    #Optimizer\n",
        "    optimizer= tf.keras.optimizers.legacy.Adam(learning_rate=0.001, beta_1=0.9, beta_2=0.999, epsilon=1e-08, decay=0.0)\n",
        "\n",
        "    #Compilator\n",
        "    model.compile(optimizer=optimizer, loss='binary_crossentropy', metrics=['accuracy'])\n",
        "    print (\"Zhu-net model generated\")\n",
        "    return model"
      ]
    },
    {
      "cell_type": "markdown",
      "metadata": {
        "id": "F73TYdW0onHI"
      },
      "source": [
        "## Defining different functions to work with the architecture"
      ]
    },
    {
      "cell_type": "code",
      "execution_count": null,
      "metadata": {
        "id": "C2mKq_nKonHJ"
      },
      "outputs": [],
      "source": [
        "\n",
        "def Final_Results_Valid(PATH_trained_models):\n",
        "    global AccValid\n",
        "    global LossValid\n",
        "    AccValid = []\n",
        "    LossValid = []\n",
        "    B_accuracy = 0 #B --> Best\n",
        "    for filename in sorted(os.listdir(PATH_trained_models)):\n",
        "        if filename != ('train') and filename != ('validation'):\n",
        "            print(filename)\n",
        "            with tpu_strategy.scope(): # creating the model in the TPUStrategy scope means we will train the model on the TPU\n",
        "                 _model = yedroudj_Net()\n",
        "            _model.load_weights(PATH_trained_models+'/'+filename)\n",
        "            loss,accuracy = _model.evaluate(X_valid, y_valid, verbose=0)\n",
        "            print(f'Loss={loss:.4f} y Accuracy={accuracy:0.4f}'+'\\n')\n",
        "\n",
        "            BandAccValid  = accuracy\n",
        "            BandLossValid = loss\n",
        "            AccValid.append(BandAccValid)\n",
        "            LossValid.append(BandLossValid)\n",
        "\n",
        "            if accuracy > B_accuracy:\n",
        "                B_accuracy = accuracy\n",
        "                B_loss = loss\n",
        "                B_name = filename\n",
        "\n",
        "    print(\"\\n\\nBest\")\n",
        "    print(B_name)\n",
        "    print(f'Loss={B_loss:.4f} y Accuracy={B_accuracy:0.4f}'+'\\n')"
      ]
    },
    {
      "cell_type": "code",
      "execution_count": null,
      "metadata": {
        "id": "id_VFPeJonHJ"
      },
      "outputs": [],
      "source": [
        "def Final_Results_Train(PATH_trained_models):\n",
        "    global AccTrain\n",
        "    global LossTrain\n",
        "    AccTrain = []\n",
        "    LossTrain = []\n",
        "    B_accuracy = 0 #B --> Best\n",
        "    for filename in sorted(os.listdir(PATH_trained_models)):\n",
        "        if filename != ('train') and filename != ('validation'):\n",
        "            print(filename)\n",
        "            with tpu_strategy.scope(): # creating the model in the TPUStrategy scope means we will train the model on the TPU\n",
        "                 _model = yedroudj_Net()\n",
        "            _model.load_weights(PATH_trained_models+'/'+filename)\n",
        "            loss,accuracy = _model.evaluate(X_train, y_train, verbose=0)\n",
        "            print(f'Loss={loss:.4f} y Accuracy={accuracy:0.4f}'+'\\n')\n",
        "\n",
        "            BandAccTrain  = accuracy\n",
        "            BandLossTrain = loss\n",
        "            AccTrain.append(BandAccTrain)\n",
        "            LossTrain.append(BandLossTrain)\n",
        "\n",
        "            if accuracy > B_accuracy:\n",
        "                B_accuracy = accuracy\n",
        "                B_loss = loss\n",
        "                B_name = filename\n",
        "\n",
        "    print(\"\\n\\nBest\")\n",
        "    print(B_name)\n",
        "    print(f'Loss={B_loss:.4f} y Accuracy={B_accuracy:0.4f}'+'\\n')"
      ]
    },
    {
      "cell_type": "code",
      "execution_count": null,
      "metadata": {
        "id": "lcEAnHqhonHJ"
      },
      "outputs": [],
      "source": [
        "def Final_Results_Test(PATH_trained_models):\n",
        "    global AccTest\n",
        "    global LossTest\n",
        "    AccTest = []\n",
        "    LossTest= []\n",
        "    B_accuracy = 0 #B --> Best\n",
        "    for filename in sorted(os.listdir(PATH_trained_models)):\n",
        "        if filename != ('train') and filename != ('validation'):\n",
        "            print(filename)\n",
        "            with tpu_strategy.scope(): # creating the model in the TPUStrategy scope means we will train the model on the TPU\n",
        "                 _model = yedroudj_Net()\n",
        "            _model.load_weights(PATH_trained_models+'/'+filename)\n",
        "            loss,accuracy = _model.evaluate(X_test, y_test, verbose=0)\n",
        "\n",
        "            print(f'Loss={loss:.4f} y Accuracy={accuracy:0.4f}'+'\\n')\n",
        "\n",
        "            BandAccTest  = accuracy\n",
        "            BandLossTest = loss\n",
        "            AccTest.append(BandAccTest)\n",
        "            LossTest.append(BandLossTest)\n",
        "\n",
        "            if accuracy > B_accuracy:\n",
        "                B_accuracy = accuracy\n",
        "                B_loss = loss\n",
        "                B_name = filename\n",
        "\n",
        "    print(\"\\n\\nBest\")\n",
        "    print(B_name)\n",
        "    print(f'Loss={B_loss:.4f} y Accuracy={B_accuracy:0.4f}'+'\\n')"
      ]
    },
    {
      "cell_type": "code",
      "execution_count": null,
      "metadata": {
        "id": "hT_OafMmonHK"
      },
      "outputs": [],
      "source": [
        "def graphics(AccTest, AccTrain, AccValid, LossTest, LossTrain, LossValid, model_name, path_img_base):\n",
        "    if not os.path.exists(path_img_base+\"/\"+model_name):\n",
        "       os.makedirs(path_img_base+\"/\"+model_name)\n",
        "\n",
        "    with tpu_strategy.scope(): # creating the model in the TPUStrategy scope means we will train the model on the TPU\n",
        "        model = DAMO_Net()\n",
        "\n",
        "    lossTEST,accuracyTEST   = model.evaluate(X_test, y_test,verbose=None)\n",
        "    lossTRAIN,accuracyTRAIN = model.evaluate(X_train, y_train,verbose=None)\n",
        "    lossVALID,accuracyVALID = model.evaluate(X_valid, y_valid,verbose=None)\n",
        "\n",
        "    with plt.style.context('seaborn-white'):\n",
        "        plt.figure(figsize=(10, 10))\n",
        "        plt.plot(np.concatenate([np.array([accuracyTRAIN]),np.array(AccTrain)],axis=0))\n",
        "        plt.plot(np.concatenate([np.array([accuracyVALID]),np.array(AccValid)],axis=0))\n",
        "        plt.plot(np.concatenate([np.array([accuracyTEST]),np.array(AccTest)],axis=0)) #Test\n",
        "        plt.title('Accuracy Vs Epoch')\n",
        "        plt.ylabel('Accuracy')\n",
        "        plt.xlabel('Epoch')\n",
        "        plt.legend(['Train', 'Validation', 'Test'], loc='upper left')\n",
        "        plt.grid('on')\n",
        "        plt.savefig(path_img_base+'/'+model_name+'/Accuracy_yedroudj_Net_'+model_name+'.eps', format='eps')\n",
        "        plt.savefig(path_img_base+'/'+model_name+'/Accuracy_yedroudj_Net_'+model_name+'.svg', format='svg')\n",
        "        plt.savefig(path_img_base+'/'+model_name+'/Accuracy_yedroudj_Net_'+model_name+'.pdf', format='pdf')\n",
        "        plt.show()\n",
        "\n",
        "        plt.figure(figsize=(10, 10))\n",
        "        plt.plot(np.concatenate([np.array([lossTRAIN]),np.array(LossTrain)],axis=0))\n",
        "        plt.plot(np.concatenate([np.array([lossVALID]),np.array(LossValid)],axis=0))\n",
        "        plt.plot(np.concatenate([np.array([lossTEST]),np.array(LossTest)],axis=0)) #Test\n",
        "        plt.title('Loss Vs Epoch')\n",
        "        plt.ylabel('Loss')\n",
        "        plt.xlabel('Epoch')\n",
        "        plt.legend(['Train', 'Validation', 'Test'], loc='upper left')\n",
        "        plt.grid('on')\n",
        "        plt.savefig(path_img_base+'/'+model_name+'/Loss_yedroudj_Net'+model_name+'.eps', format='eps')\n",
        "        plt.savefig(path_img_base+'/'+model_name+'/Loss_yedroudj_Net'+model_name+'.svg', format='svg')\n",
        "        plt.savefig(path_img_base+'/'+model_name+'/Loss_yedroudj_Net'+model_name+'.pdf', format='pdf')\n",
        "        plt.show()"
      ]
    },
    {
      "cell_type": "markdown",
      "metadata": {
        "id": "z3Fixnm89RZe"
      },
      "source": [
        "### **ROC**"
      ]
    },
    {
      "cell_type": "code",
      "execution_count": null,
      "metadata": {
        "id": "aeM-7w4Y9THv"
      },
      "outputs": [],
      "source": [
        "from sklearn.metrics import (\n",
        "    average_precision_score,\n",
        "    precision_recall_curve,\n",
        "    roc_auc_score,\n",
        "    roc_curve,\n",
        ")\n",
        "\n",
        "def get_curve(gt, pred, target_names,model_name):\n",
        "    labels=[]\n",
        "    for i in range(len(target_names)):\n",
        "\n",
        "        curve_function = roc_curve\n",
        "        auc_roc = roc_auc_score(gt[:, i], pred[:, i])\n",
        "        label = model_name+target_names[i] + \" AUC: %.3f \" % auc_roc\n",
        "        labels.append(label)\n",
        "        xlabel = \"False positive rate\"\n",
        "        ylabel = \"True positive rate\"\n",
        "        a, b, _ = curve_function(gt[:, i], pred[:, i])\n",
        "        plt.figure(1, figsize=(7, 7))\n",
        "        plt.plot([0, 1], [0, 1], 'k--')\n",
        "        plt.plot(a, b, label=label)\n",
        "        plt.xlabel(xlabel)\n",
        "        plt.ylabel(ylabel)\n",
        "\n",
        "        plt.legend(loc='upper center', bbox_to_anchor=(1.3, 1),\n",
        "                  fancybox=True, ncol=1)\n",
        "\n",
        "    return [a,b],labels\n",
        "labels = [\"Cover\",\"Stego\"]"
      ]
    },
    {
      "cell_type": "code",
      "execution_count": null,
      "metadata": {
        "id": "w491BfrOonHK"
      },
      "outputs": [],
      "source": [
        "def top_models(AccTest,AccTrain,AccValid):\n",
        "    numbers=AccTest\n",
        "    numbers_sort = sorted(enumerate(numbers), key=itemgetter(1),  reverse=True)\n",
        "    for i in range(int(len(numbers)*(0.05))): #5% total epochs\n",
        "        index, value = numbers_sort[i]\n",
        "        print(\"Test Accuracy {}, epoch:{}\\n\".format(value, index+1))\n",
        "\n",
        "    print(\"\")\n",
        "\n",
        "    numbers=AccTrain\n",
        "    numbers_sort = sorted(enumerate(numbers), key=itemgetter(1),  reverse=True)\n",
        "    for i in range(int(len(numbers)*(0.05))): #5% total epochs\n",
        "        index, value = numbers_sort[i]\n",
        "        print(\"Train Accuracy {}, epoch:{}\\n\".format(value, index+1))\n",
        "\n",
        "    print(\"\")\n",
        "\n",
        "    numbers=AccValid\n",
        "    numbers_sort = sorted(enumerate(numbers), key=itemgetter(1),  reverse=True)\n",
        "    for i in range(int(len(numbers)*(0.05))): #5% total epochs\n",
        "        index, value = numbers_sort[i]\n",
        "        print(\"Validation Accuracy {}, epoch:{}\\n\".format(value, index+1))"
      ]
    },
    {
      "cell_type": "code",
      "execution_count": null,
      "metadata": {
        "id": "gTts-1iqonHL"
      },
      "outputs": [],
      "source": [
        "def trainTPU(path_model, epochs, model_Name):\n",
        "    global model_name\n",
        "    start_time = tm.time()\n",
        "    model_name = model_Name\n",
        "    path_log_base = path_model+'/'+model_Name\n",
        "    if not os.path.exists(path_log_base):\n",
        "        os.makedirs(path_log_base)\n",
        "\n",
        "    with tpu_strategy.scope(): # creating the model in the TPUStrategy scope means we will train the model on the TPU\n",
        "         model = yedroudj_Net()\n",
        "         model.summary()\n",
        "\n",
        "\n",
        "\n",
        "    epoch_ = 1\n",
        "    for epoch in range(epochs):\n",
        "        epoch=epoch+1\n",
        "        print(\"epoch \",epoch)\n",
        "\n",
        "        model.fit(X_train,y_train,validation_data=(X_valid,y_valid), batch_size=64, epochs=epoch_, verbose=1)\n",
        "\n",
        "\n",
        "        model.save_weights(path_model+'/'+model_name+'/'+str(epoch).zfill(4)+'.hdf5', overwrite=True)\n",
        "\n",
        "    TIME = tm.time() - start_time\n",
        "    print(\"Time \"+model_name+\" = %s [seconds]\" % TIME)"
      ]
    },
    {
      "cell_type": "markdown",
      "source": [
        "## ALASKA Dataset"
      ],
      "metadata": {
        "id": "ui4IMt5CGTOH"
      }
    },
    {
      "cell_type": "code",
      "source": [
        "import pandas as pd\n",
        "#from stegano import lsb\n",
        "import os\n",
        "import matplotlib.pyplot as plt\n",
        "import numpy as np\n",
        "from PIL import Image\n",
        "import scipy.spatial.distance as dist\n",
        "import string\n",
        "import random\n",
        "#from essential_generators import DocumentGenerator\n",
        "from scipy.fftpack import dct\n",
        "from skimage.io import imread\n",
        "from tqdm import tqdm"
      ],
      "metadata": {
        "id": "90eMV2dKGVXm"
      },
      "execution_count": null,
      "outputs": []
    },
    {
      "cell_type": "code",
      "source": [
        "!rm -r ~/.kaggle\n",
        "!mkdir ~/.kaggle\n",
        "!mv ./kaggle.json ~/.kaggle/\n",
        "!chmod 600 ~/.kaggle/kaggle.json"
      ],
      "metadata": {
        "id": "6GT2o_qyHt4I"
      },
      "execution_count": null,
      "outputs": []
    },
    {
      "cell_type": "code",
      "source": [
        "!kaggle competitions download -c alaska2-image-steganalysis"
      ],
      "metadata": {
        "colab": {
          "base_uri": "https://localhost:8080/"
        },
        "id": "YIrdmRQJGvUo",
        "outputId": "be7dd63b-ef9c-4f24-c9a6-7b1b7feeef49"
      },
      "execution_count": null,
      "outputs": [
        {
          "output_type": "stream",
          "name": "stdout",
          "text": [
            "Downloading alaska2-image-steganalysis.zip to /content\n",
            "100% 30.0G/30.0G [03:49<00:00, 209MB/s]\n",
            "100% 30.0G/30.0G [03:49<00:00, 140MB/s]\n"
          ]
        }
      ]
    },
    {
      "cell_type": "code",
      "source": [
        "!unzip -q /content/alaska2-image-steganalysis.zip -d /content/Dataset\n",
        "!rm /content/alaska2-image-steganalysis.zip"
      ],
      "metadata": {
        "id": "sGBdwE5WGyPT"
      },
      "execution_count": null,
      "outputs": []
    },
    {
      "cell_type": "code",
      "source": [
        "# first approach: 6000 pairs for training, 1500 pairs for validation, and 7500 pairs were randomly chosen from the same trained set for testing.\n",
        "\n",
        "from pyasn1_modules.rfc2459 import X121Address\n",
        "cover_final_path=\"/content/Dataset/Cover\"\n",
        "stego_final_path=\"/content/Dataset/JUNIWARD\"\n",
        "cover_final_path_list=[]\n",
        "stego_final_path_list=[]\n",
        "pixel_cover=[]\n",
        "pixel_stego=[]\n",
        "\n",
        "\n",
        "def get_train_data(cover_final_path,stego_final_path):\n",
        "    train_df=pd.DataFrame()\n",
        "    train_df_2=pd.DataFrame()\n",
        "    for path in tqdm(os.listdir(cover_final_path)[:7500]):\n",
        "        cover_final_path_list.append(cover_final_path+\"/\"+path)\n",
        "        im = Image.open(cover_final_path+\"/\"+path)\n",
        "        im = im.convert('L')\n",
        "        im=im.resize((256,256))\n",
        "        im=np.array(im)\n",
        "        pixel_cover.append(im)\n",
        "    #train_df[\"Images\"]=cover_final_path_list\n",
        "    #train_df[\"Label\"]=0\n",
        "\n",
        "    for path in tqdm(os.listdir(stego_final_path)[:7500]):\n",
        "        stego_final_path_list.append(stego_final_path+\"/\"+path)\n",
        "        im = Image.open(stego_final_path+\"/\"+path)\n",
        "        im = im.convert('L')\n",
        "        im=im.resize((256,256))\n",
        "        im=np.array(im)\n",
        "        pixel_stego.append(im)\n",
        "    #train_df_2[\"Images\"]=stego_final_path_list\n",
        "    #train_df_2[\"Label\"]=1\n",
        "\n",
        "    #train_df=train_df.append(train_df_2)\n",
        "    return pixel_cover,pixel_stego\n",
        "\n",
        "pixel_cover,pixel_stego=get_train_data(cover_final_path,stego_final_path)\n",
        "\n",
        "\n",
        "#Y=train_df[\"Label\"].values\n",
        "pixel_cover=np.array(pixel_cover)\n",
        "pixel_stego=np.array(pixel_stego)\n",
        "X=np.concatenate([pixel_cover,pixel_stego])\n",
        "\n",
        "\n",
        "Y = (numpy.hstack(([0]*len(pixel_cover), [1]*len(pixel_stego))))\n",
        "Y = np_utils.to_categorical(Y, 2)\n",
        "\n",
        "X_dat0, X_dat1, y_dat0, y_dat1 = train_test_split(X,Y, test_size=0.50, random_state=64)\n",
        "X = np.concatenate([X_dat0,X_dat1],axis=0)\n",
        "Y = np.concatenate([y_dat0,y_dat1],axis=0)\n",
        "\n",
        "\n",
        "#Y = train_df[\"Label\"].values\n",
        "#X=X.reshape(15000,200,200,1)\n",
        "\n",
        "## 80,10,10\n",
        "#X_train = np.concatenate([X[0:6000],X[7500:13500]],axis=0)\n",
        "#X_valid = np.concatenate([X[6000:6750],X[13500:14250]],axis=0)\n",
        "#X_test  = np.concatenate([X[6750:7500],X[14250:15000]],axis=0)\n",
        "#y_train = np.concatenate([Y[0:6000],Y[7500:13500]],axis=0)\n",
        "#y_valid = np.concatenate([Y[6000:6750],Y[13500:14250]],axis=0)\n",
        "#y_test  = np.concatenate([Y[6750:7500],Y[14250:15000]],axis=0)\n",
        "\n",
        "## 40,10,50\n",
        "X_train = np.concatenate([X[0:6000],X[7500:13500]],axis=0)\n",
        "X_valid = np.concatenate([X[6000:7500],X[13500:15000]],axis=0)\n",
        "X_test  = np.concatenate([X[3750:7500],X[11250:15000]],axis=0)\n",
        "y_train = np.concatenate([Y[0:6000],Y[7500:13500]],axis=0)\n",
        "y_valid = np.concatenate([Y[6000:7500],Y[13500:15000]],axis=0)\n",
        "y_test  = np.concatenate([Y[3750:7500],Y[11250:15000]],axis=0)\n",
        "\n",
        "## 40,10,50\n",
        "#X_train = np.concatenate([X[0:3000],X[7500:10500]],axis=0)\n",
        "#X_valid = np.concatenate([X[3000:3750],X[10500:11250]],axis=0)\n",
        "#X_test  = np.concatenate([X[3750:7500],X[11250:15000]],axis=0)\n",
        "#y_train = np.concatenate([Y[0:3000],Y[7500:10500]],axis=0)\n",
        "#y_valid = np.concatenate([Y[3000:3750],Y[10500:11250]],axis=0)\n",
        "#y_test  = np.concatenate([Y[3750:7500],Y[11250:15000]],axis=0)\n",
        "\n",
        "\n",
        "print(X_train.shape)\n",
        "print(y_train.shape)\n",
        "print(X_valid.shape)\n",
        "print(y_valid.shape)\n",
        "print(X_test.shape)\n",
        "print(y_test.shape)"
      ],
      "metadata": {
        "id": "JaZE37heGWgE"
      },
      "execution_count": null,
      "outputs": []
    },
    {
      "cell_type": "code",
      "source": [
        "# creat one dataset and lables (X, Y)\n",
        "cover_final_path=\"/content/Dataset/Cover\"\n",
        "juniward_final_path=\"/content/Dataset/UERD\"\n",
        "\n",
        "cover_final_path_list=[]\n",
        "juniward_final_path=[]\n",
        "\n",
        "pixel_cover=[]\n",
        "pixel_juniward=[]\n",
        "\n",
        "\n",
        "\n",
        "def get_train_data(cover_final_path,juniward_final_path):\n",
        "    train_df=pd.DataFrame()\n",
        "    train_df_2=pd.DataFrame()\n",
        "    for path in tqdm(os.listdir(cover_final_path)[:7500]):\n",
        "        cover_final_path_list.append(cover_final_path+\"/\"+path)\n",
        "        im = Image.open(cover_final_path+\"/\"+path)\n",
        "        im = im.convert('L')\n",
        "        im=im.resize((200,200),1)\n",
        "        im=np.array(im)\n",
        "        pixel_cover.append(im)\n",
        "    train_df[\"Images\"]=cover_final_path_list\n",
        "    train_df[\"Label\"]=0\n",
        "\n",
        "    for path in tqdm(os.listdir(juniward_final_path)[:7500]):\n",
        "        juniward_final_path_list.append(juniward_final_path+\"/\"+path)\n",
        "        im = Image.open(juniward_final_path+\"/\"+path)\n",
        "        im = im.convert('L')\n",
        "        im=im.resize((200,200),1)\n",
        "        im=np.array(im)\n",
        "        pixel_juniward.append(im)\n",
        "    train_df_2[\"Images\"]=juniward_final_path_list\n",
        "    train_df_2[\"Label\"]=1\n",
        "\n",
        "    train_df=train_df.append(train_df_2)\n",
        "    return train_df,pixel_cover,pixel_juniward\n",
        "\n",
        "\n",
        "train_df,pixel_cover,pixel_juniward=get_train_data(cover_final_path,juniward_final_path)\n",
        "\n",
        "Y=train_df[\"Label\"].values\n",
        "pixel_cover=np.array(pixel_cover)\n",
        "pixel_juniward=np.array(pixel_juniward)\n",
        "X=np.concatenate([pixel_cover,pixel_juniward])\n",
        "X=X.reshape(15000,200,200,1)\n",
        "\n",
        "## 80,10,10\n",
        "#X_train = np.concatenate([X[0:6000],X[7500:13500]],axis=0)\n",
        "#X_valid = np.concatenate([X[6000:6750],X[13500:14250]],axis=0)\n",
        "#X_test  = np.concatenate([X[6750:7500],X[14250:15000]],axis=0)\n",
        "#y_train = np.concatenate([Y[0:6000],Y[7500:13500]],axis=0)\n",
        "#y_valid = np.concatenate([Y[6000:6750],Y[13500:14250]],axis=0)\n",
        "#y_test  = np.concatenate([Y[6750:7500],Y[14250:15000]],axis=0)\n",
        "\n"
      ],
      "metadata": {
        "id": "9cGq6t8wFrYp"
      },
      "execution_count": null,
      "outputs": []
    },
    {
      "cell_type": "code",
      "source": [
        "cover_final_path=\"/content/Dataset/Cover\"\n",
        "juniward_final_path=\"/content/Dataset/JUNIWARD\"\n",
        "\n",
        "cover_final_path_list=[]\n",
        "juniward_final_path_list=[]\n",
        "\n",
        "pixel_cover=[]\n",
        "pixel_juniward=[]\n",
        "\n",
        "\n",
        "\n",
        "def get_train_data(cover_final_path,juniward_final_path):\n",
        "    train_df=pd.DataFrame()\n",
        "    train_df_2=pd.DataFrame()\n",
        "    for path in tqdm(os.listdir(cover_final_path)[:7500]):\n",
        "        cover_final_path_list.append(cover_final_path+\"/\"+path)\n",
        "        im = Image.open(cover_final_path+\"/\"+path)\n",
        "        im = im.convert('L')\n",
        "        im=im.resize((200,200))\n",
        "        im=np.array(im)\n",
        "        pixel_cover.append(im)\n",
        "    train_df[\"Images\"]=cover_final_path_list\n",
        "    train_df[\"Label\"]=0\n",
        "\n",
        "    for path in tqdm(os.listdir(juniward_final_path)[:7500]):\n",
        "        juniward_final_path_list.append(juniward_final_path+\"/\"+path)\n",
        "        im = Image.open(juniward_final_path+\"/\"+path)\n",
        "        im = im.convert('L')\n",
        "        im=im.resize((200,200))\n",
        "        im=np.array(im)\n",
        "        pixel_juniward.append(im)\n",
        "    train_df_2[\"Images\"]=juniward_final_path_list\n",
        "    train_df_2[\"Label\"]=1\n",
        "\n",
        "    train_df=train_df.append(train_df_2)\n",
        "    return train_df,pixel_cover,pixel_juniward\n",
        "\n",
        "\n",
        "train_df,pixel_cover,pixel_juniward=get_train_data(cover_final_path,juniward_final_path)\n",
        "\n",
        "Y_test=train_df[\"Label\"].values\n",
        "pixel_cover=np.array(pixel_cover)\n",
        "pixel_juniward=np.array(pixel_juniward)\n",
        "X_test=np.concatenate([pixel_cover,pixel_juniward])\n",
        "X_test=X.reshape(15000,200,200)\n",
        "\n",
        "## 80,10,10\n",
        "#X_train = np.concatenate([X[0:6000],X[7500:13500]],axis=0)\n",
        "#X_valid = np.concatenate([X[6000:6750],X[13500:14250]],axis=0)\n",
        "#X_test  = np.concatenate([X[6750:7500],X[14250:15000]],axis=0)\n",
        "#y_train = np.concatenate([Y[0:6000],Y[7500:13500]],axis=0)\n",
        "#y_valid = np.concatenate([Y[6000:6750],Y[13500:14250]],axis=0)\n",
        "#y_test  = np.concatenate([Y[6750:7500],Y[14250:15000]],axis=0)\n",
        "\n"
      ],
      "metadata": {
        "id": "sg4tsJjIIGKm"
      },
      "execution_count": null,
      "outputs": []
    },
    {
      "cell_type": "code",
      "source": [
        "print(X_train[15000],y_train[15000])"
      ],
      "metadata": {
        "id": "jkU-OwisFcWm"
      },
      "execution_count": null,
      "outputs": []
    },
    {
      "cell_type": "markdown",
      "source": [
        "ALL ALASKA dataset (The three datasets\"jmipod+juniward+uerd)"
      ],
      "metadata": {
        "id": "lr5eaZeftMbG"
      }
    },
    {
      "cell_type": "code",
      "source": [
        "GCS_DS_PATH = \"/content/Dataset\"\n",
        "def append_path(pre):\n",
        "    return np.vectorize(lambda file: os.path.join(GCS_DS_PATH, pre, file))\n",
        "\n",
        "sub = pd.read_csv('/content/Dataset/sample_submission.csv')\n",
        "train_filenames = np.array(os.listdir(\"/content/Dataset/Cover/\"))"
      ],
      "metadata": {
        "id": "l1UQa9z2OyvH"
      },
      "execution_count": null,
      "outputs": []
    },
    {
      "cell_type": "code",
      "source": [
        "np.random.seed(0)\n",
        "positives = train_filenames.copy()\n",
        "negatives = train_filenames.copy()\n",
        "np.random.shuffle(positives)\n",
        "np.random.shuffle(negatives)\n",
        "\n",
        "jmipod = append_path('/content/Dataset/JMiPOD')(positives[:7500])\n",
        "juniward = append_path('/content/Dataset/JUNIWARD')(positives[7500:15000])\n",
        "uerd = append_path('/content/Dataset/UERD')(positives[15000:22500])\n",
        "\n",
        "pos_paths = np.concatenate([jmipod, juniward, uerd])\n"
      ],
      "metadata": {
        "id": "OcCXpuqat6EL"
      },
      "execution_count": null,
      "outputs": []
    },
    {
      "cell_type": "code",
      "source": [
        "from pyasn1_modules.rfc2459 import X121Address\n",
        "cover_final_path=\"/content/Dataset/Cover\"\n",
        "stego_final_path =np.array(pos_paths)\n",
        "cover_final_path_list=[]\n",
        "stego_final_path_list=[]\n",
        "pixel_cover=[]\n",
        "pixel_stego=[]\n",
        "i=0\n",
        "\n",
        "def get_train_data(cover_final_path,stego_final_path):\n",
        "\n",
        "\n",
        "   for path in tqdm(os.listdir(cover_final_path)[:22500]):\n",
        "        cover_final_path_list.append(cover_final_path+\"/\"+path)\n",
        "        im = Image.open(cover_final_path+\"/\"+path)\n",
        "        im = im.convert('L')\n",
        "        im=im.resize((256,256))\n",
        "        im=np.array(im)\n",
        "        pixel_cover.append(im)\n",
        "\n",
        "\n",
        "\n",
        "   for i in range(0,len(stego_final_path)):\n",
        "\n",
        "     stego_final_path_list.append(stego_final_path)\n",
        "     im = Image.open(stego_final_path[i])\n",
        "     im = im.convert('L')\n",
        "     im=im.resize((256,256))\n",
        "     im=np.array(im)\n",
        "     pixel_stego.append(im)\n",
        "\n",
        "\n",
        "\n",
        "   return pixel_cover,pixel_stego\n",
        "\n",
        "pixel_cover,pixel_stego=get_train_data(cover_final_path,stego_final_path)\n",
        "\n",
        "\n",
        "#Y=train_df[\"Label\"].values\n",
        "pixel_cover=np.array(pixel_cover)\n",
        "pixel_stego=np.array(pixel_stego)\n",
        "X=np.concatenate([pixel_cover,pixel_stego])\n",
        "print(X.shape)\n",
        "\n",
        "\n"
      ],
      "metadata": {
        "colab": {
          "base_uri": "https://localhost:8080/"
        },
        "id": "7OYEfn4kVL8Y",
        "outputId": "75fe9bc9-e748-423d-c8de-f16f69f66a34"
      },
      "execution_count": null,
      "outputs": [
        {
          "output_type": "stream",
          "name": "stderr",
          "text": [
            "100%|██████████| 22500/22500 [03:52<00:00, 96.59it/s]\n"
          ]
        },
        {
          "output_type": "stream",
          "name": "stdout",
          "text": [
            "(45000, 256, 256)\n"
          ]
        }
      ]
    },
    {
      "cell_type": "code",
      "source": [
        "print(X.shape)"
      ],
      "metadata": {
        "colab": {
          "base_uri": "https://localhost:8080/"
        },
        "id": "1UeMbsPh7BCC",
        "outputId": "daa49b44-8de1-484d-fea3-6e1d6f343f18"
      },
      "execution_count": null,
      "outputs": [
        {
          "output_type": "stream",
          "name": "stdout",
          "text": [
            "(45000, 256, 256)\n"
          ]
        }
      ]
    },
    {
      "cell_type": "code",
      "source": [
        "X_=X.reshape(45000,256,256)\n",
        "Y = (numpy.hstack(([0]*len(pixel_cover), [1]*len(pixel_stego))))"
      ],
      "metadata": {
        "id": "OK9oMXNiwwDa"
      },
      "execution_count": null,
      "outputs": []
    },
    {
      "cell_type": "code",
      "source": [
        "## 40,10,50\n",
        "\n",
        "Y = (numpy.hstack(([0]*len(pixel_cover), [1]*len(pixel_stego))))\n",
        "Y = np_utils.to_categorical(Y, 2)\n",
        "\n",
        "X_dat0, X_dat1, y_dat0, y_dat1 = train_test_split(X,Y, test_size=0.50, random_state=64)\n",
        "X = np.concatenate([X_dat0,X_dat1],axis=0)\n",
        "Y = np.concatenate([y_dat0,y_dat1],axis=0)\n",
        "\n",
        "X_train = np.concatenate([X[0:9000],X[22500:31500]],axis=0)\n",
        "X_valid = np.concatenate([X[9000:11250],X[31500:33750]],axis=0)\n",
        "X_test  = np.concatenate([X[11250:22500],X[33750:45000]],axis=0)\n",
        "y_train = np.concatenate([Y[0:9000],Y[22500:31500]],axis=0)\n",
        "y_valid = np.concatenate([Y[9000:11250],Y[31500:33750]],axis=0)\n",
        "y_test  = np.concatenate([Y[11250:22500],Y[33750:45000]],axis=0)\n",
        "\n",
        "print(X_train.shape)\n",
        "print(y_train.shape)\n",
        "print(X_valid.shape)\n",
        "print(y_valid.shape)\n",
        "print(X_test.shape)\n",
        "print(y_test.shape)"
      ],
      "metadata": {
        "colab": {
          "base_uri": "https://localhost:8080/"
        },
        "id": "W8mOzlbZqIZW",
        "outputId": "d3a4ec95-19f9-4b65-b339-b79aa3d0b211"
      },
      "execution_count": null,
      "outputs": [
        {
          "output_type": "stream",
          "name": "stdout",
          "text": [
            "(18000, 256, 256)\n",
            "(18000, 2)\n",
            "(4500, 256, 256)\n",
            "(4500, 2)\n",
            "(22500, 256, 256)\n",
            "(22500, 2)\n"
          ]
        }
      ]
    },
    {
      "cell_type": "code",
      "source": [
        "## 40,10,50\n",
        "\n",
        "X_test  = np.concatenate([X[0:11250],X[22500:33750]],axis=0)\n",
        "\n",
        "y_test  = np.concatenate([Y[0:11250],Y[22500:33750]],axis=0)\n",
        "\n",
        "print(X_train.shape)\n",
        "print(y_train.shape)\n",
        "print(X_valid.shape)\n",
        "print(y_valid.shape)\n",
        "print(X_test.shape)\n",
        "print(y_test.shape)"
      ],
      "metadata": {
        "id": "wVR2vuU7N0MC"
      },
      "execution_count": null,
      "outputs": []
    },
    {
      "cell_type": "code",
      "source": [
        "print(stego_final_path[15000])\n",
        "im=Image.open(stego_final_path[15000])\n",
        "im=im.convert('L')\n",
        "#im.size\n",
        "im.resize((256,256))"
      ],
      "metadata": {
        "id": "PBDQWyAFkm3I"
      },
      "execution_count": null,
      "outputs": []
    },
    {
      "cell_type": "code",
      "source": [
        "\n",
        "X_train, X_valid, y_train, y_valid = train_test_split(\n",
        "    X_train, y_train, test_size=0.20, random_state=2020)\n",
        "\n"
      ],
      "metadata": {
        "id": "vtxe-4KWPKb8"
      },
      "execution_count": null,
      "outputs": []
    },
    {
      "cell_type": "code",
      "source": [
        "print(X_train.shape)\n",
        "print(y_train.shape)\n",
        "print(X_valid.shape)\n",
        "print(y_valid.shape)\n",
        "print(X_test.shape)\n",
        "print(y_test.shape)"
      ],
      "metadata": {
        "id": "kvKIHnhgh4V_"
      },
      "execution_count": null,
      "outputs": []
    },
    {
      "cell_type": "markdown",
      "source": [
        "##BOSS+BOW JPEG"
      ],
      "metadata": {
        "id": "piLNrWZep5f4"
      }
    },
    {
      "cell_type": "code",
      "source": [
        "##This dataset has not been used in the paper\n",
        "\n",
        "pathc = '/content/drive/MyDrive/archive'\n",
        "paths = '/content/drive/MyDrive/archive'\n",
        "\n",
        "Xc_ = pd.read_csv(pathc+'/gfr_cover.csv').values ##COVER IMAGES\n",
        "Xs_ = pd.read_csv(paths+'/juniward_gfr_stego_04.csv').values ##STEGO IMAGES\n",
        "#Xc_ = Xc_.to_numpy()\n",
        "#Xs_ = Xs_.to_numpy()\n",
        "\n",
        "#Xc_ = Xc_[:, 1:].reshape(Xc_.shape[0],1,17000,-1).astype( 'float32' )\n",
        "#Xc_ = Xc_ / 255.0\n",
        "\n",
        "#Xs_ = Xs_[:, 1:].reshape(Xs_.shape[0],1,100, 170).astype( 'float32' )\n",
        "#Xs_ = Xs_ / 255.0\n",
        "\n",
        "\n",
        "X_  = (numpy.vstack((Xc_, Xs_)))\n",
        "Xt_ = (numpy.hstack(([0]*len(Xc_), [1]*len(Xs_))))\n",
        "#\n",
        "Xt_ = np_utils.to_categorical(Xt_, 2)\n",
        "#\n",
        "X_  = np.rollaxis(X_,1,2)  #channel axis shifted to last axis\n",
        "\n",
        "print(\"Total image data and labels\",X_.shape,Xt_.shape)\n",
        "\n",
        "X_train = np.concatenate([X_[0:4000],X_[10000:14000]],axis=0)\n",
        "X_valid = np.concatenate([X_[4000:5000],X_[14000:15000]],axis=0)\n",
        "X_test  = np.concatenate([X_[5000:10000],X_[15000:20000]],axis=0)\n",
        "y_train = np.concatenate([Xt_[0:4000],Xt_[10000:14000]],axis=0)\n",
        "y_valid = np.concatenate([Xt_[4000:5000],Xt_[14000:15000]],axis=0)\n",
        "y_test  = np.concatenate([Xt_[5000:10000],Xt_[15000:20000]],axis=0)\n",
        "\n",
        "\n",
        "\n",
        "\n",
        "\n",
        "#Controled randomized data for training\n",
        "X_dat0, X_dat1, y_dat0, y_dat1 = train_test_split(X_train, y_train, test_size=0.50،random_state=64)\n",
        "X_train = np.concatenate([X_dat0,X_dat1],axis=0)\n",
        "y_train = np.concatenate([y_dat0,y_dat1],axis=0)\n",
        "\n",
        "print(X_train.shape)\n",
        "print(y_train.shape)\n",
        "print(X_valid.shape)\n",
        "print(y_valid.shape)\n",
        "print(X_test.shape)\n",
        "print(y_test.shape)"
      ],
      "metadata": {
        "colab": {
          "base_uri": "https://localhost:8080/"
        },
        "id": "dIyg5vArp9lV",
        "outputId": "13e3e6dc-cc53-413b-8624-0299ce28ff75"
      },
      "execution_count": null,
      "outputs": [
        {
          "output_type": "stream",
          "name": "stdout",
          "text": [
            "Total image data and labels (19998, 17000) (19998, 2)\n",
            "(8000, 17000)\n",
            "(8000, 2)\n",
            "(2000, 17000)\n",
            "(2000, 2)\n",
            "(9998, 17000)\n",
            "(9998, 2)\n"
          ]
        }
      ]
    },
    {
      "cell_type": "code",
      "source": [
        "X_  = (numpy.vstack((Xc_, Xs_)))\n",
        "Xt_ = (numpy.hstack(([0]*len(Xc_), [1]*len(Xs_))))\n",
        "#\n",
        "Xt_ = np_utils.to_categorical(Xt_, 2)\n",
        "#\n",
        "X_  = np.rollaxis(X_,1,2)  #channel axis shifted to last axis\n",
        "\n",
        "print(\"Total image data and labels\",X_.shape,Xt_.shape)\n",
        "\n",
        "X_train = np.concatenate([X_[0:4000],X_[10000:14000]],axis=0)\n",
        "X_valid = np.concatenate([X_[4000:5000],X_[14000:15000]],axis=0)\n",
        "X_test  = np.concatenate([X_[5000:10000],X_[15000:20000]],axis=0)\n",
        "y_train = np.concatenate([Xt_[0:4000],Xt_[10000:14000]],axis=0)\n",
        "y_valid = np.concatenate([Xt_[4000:5000],Xt_[14000:15000]],axis=0)\n",
        "y_test  = np.concatenate([Xt_[5000:10000],Xt_[15000:20000]],axis=0)\n",
        "\n",
        "\n",
        "\n",
        "\n",
        "\n",
        "#Controled randomized data for training\n",
        "X_dat0, X_dat1, y_dat0, y_dat1 = train_test_split(X_train, y_train, test_size=0.50)\n",
        "X_train = np.concatenate([X_dat0,X_dat1],axis=0)\n",
        "y_train = np.concatenate([y_dat0,y_dat1],axis=0)\n",
        "\n",
        "print(X_train.shape)\n",
        "print(y_train.shape)\n",
        "print(X_valid.shape)\n",
        "print(y_valid.shape)\n",
        "print(X_test.shape)\n",
        "print(y_test.shape)"
      ],
      "metadata": {
        "colab": {
          "base_uri": "https://localhost:8080/"
        },
        "id": "PFJ0DxZ5_m_N",
        "outputId": "08c66c33-9b6e-4806-85d6-2b9253b8f0e1"
      },
      "execution_count": null,
      "outputs": [
        {
          "output_type": "stream",
          "name": "stdout",
          "text": [
            "Total image data and labels (19998, 17000) (19998, 2)\n",
            "(8000, 17000)\n",
            "(8000, 2)\n",
            "(2000, 17000)\n",
            "(2000, 2)\n",
            "(9998, 17000)\n",
            "(9998, 2)\n"
          ]
        }
      ]
    },
    {
      "cell_type": "code",
      "source": [
        "cover= pd.read_csv('/content/drive/MyDrive/archive/dctr_cover.csv',header=None)\n",
        "stego =pd.read_csv('/content/drive/MyDrive/archive/juniward_dctr_stego_04.csv', header= None)\n",
        "\n",
        "Xc_= cover.to_numpy\n",
        "Xs_= stego.to_numpy\n",
        "\n",
        "X_  = (numpy.vstack((Xc_, Xs_)))\n",
        "Xt_ = (numpy.hstack(([0]*len(Xc_), [1]*len(Xs_))))\n",
        "Xt_ = np_utils.to_categorical(Xt_, 2)\n",
        "X_  = np.rollaxis(X_,1,4)  #channel axis shifted to last axis\n",
        "\n",
        "print(\"Total image data and labels\",X_.shape,Xt_.shape)\n"
      ],
      "metadata": {
        "id": "V_kgl36BtfHr"
      },
      "execution_count": null,
      "outputs": []
    },
    {
      "cell_type": "markdown",
      "metadata": {
        "id": "Bb6ucZGAonHM"
      },
      "source": [
        "## BOSSbase 1.01+BOWS2, PAYLOAD = 0.4bpp"
      ]
    },
    {
      "cell_type": "markdown",
      "metadata": {
        "id": "U9Mp2HhEonHM"
      },
      "source": [
        "## Training image pairs(4000), Validation image pairs(1000), and Test image pairs(5000)"
      ]
    },
    {
      "cell_type": "code",
      "execution_count": null,
      "metadata": {
        "colab": {
          "base_uri": "https://localhost:8080/"
        },
        "id": "4YhKVzPsHT46",
        "outputId": "347be452-869c-4799-c701-0f2bfddbd51d"
      },
      "outputs": [
        {
          "output_type": "stream",
          "name": "stdout",
          "text": [
            "(8000, 256, 256, 1)\n",
            "(8000, 2)\n",
            "(2000, 256, 256, 1)\n",
            "(2000, 2)\n",
            "(10000, 256, 256, 1)\n",
            "(10000, 2)\n"
          ]
        }
      ],
      "source": [
        "\n",
        "PATH04 = '/content/drive/MyDrive/Steganalysis/DATABASES/Strategy/COVER_STEGO_02_04bpp_size256/payload_04bpp'\n",
        "#PATH02 = '/content/drive/MyDrive/Steganalysis/DATABASES/Strategy/COVER_STEGO_02_04bpp_size256/payload_02bpp'\n",
        "#Dataset\n",
        "\n",
        "PATH04_WOW1 = '/1WOW/BOSSbase1_01_train4000_valid1000_test5000/NPY/'\n",
        "#PATH04_SUN3 = \"/3S-UNIWARD/BOSSbase1_01_train4000_valid1000_test5000/NPY/\"\n",
        "#PATH04_WOW1= \"/1WOW/BOSSbase1_01-BOWS2_train14000_valid1000_test5000/NPY/\"\n",
        "#PATH04_SUN3=\"/3S-UNIWARD/BOSSbase1_01-BOWS2_train14000_valid1000_test5000/NPY/\"\n",
        "#Train\n",
        "X_train = np.load(PATH04+PATH04_WOW1+'X_train.npy')\n",
        "y_train = np.load(PATH04+PATH04_WOW1+'y_train.npy')\n",
        "#Valid\n",
        "X_valid = np.load(PATH04+PATH04_WOW1+'X_valid.npy')\n",
        "y_valid = np.load(PATH04+PATH04_WOW1+'y_valid.npy')\n",
        "#Test\n",
        "X_test = np.load(PATH04+PATH04_WOW1+'X_test.npy')\n",
        "y_test = np.load(PATH04+PATH04_WOW1+'y_test.npy')\n",
        "\n",
        "print(X_train.shape)\n",
        "print(y_train.shape)\n",
        "print(X_valid.shape)\n",
        "print(y_valid.shape)\n",
        "print(X_test.shape)\n",
        "print(y_test.shape)\n"
      ]
    },
    {
      "cell_type": "code",
      "source": [
        "n=256\n",
        "#n=64\n",
        "def load_images(path_pattern):\n",
        "    files=glob.glob(path_pattern)\n",
        "    X=[]\n",
        "    for f in sorted(files):\n",
        "        I = cv2.imread(f, cv2.IMREAD_GRAYSCALE)\n",
        "        patches = view_as_blocks(I, (n, n))\n",
        "        for i in range(patches.shape[0]):\n",
        "            for j in range(patches.shape[1]):\n",
        "                X.append( [ patches[i,j] ] )\n",
        "    X=numpy.array(X)\n",
        "    return X\n",
        "    print('x',X)\n",
        "\n",
        "pathc = '/content/drive/MyDrive/Steganalysis/DATABASES/GBRAS-Net/BOSSbase-1.01'\n",
        "paths = '/content/drive/MyDrive/Steganalysis/DATABASES/GBRAS-Net/BOSSbase-1.01/WOW/0.4bpp'\n",
        "\n",
        "Xc_ = load_images(pathc+'/cover/*.pgm') ##COVER IMAGES\n",
        "Xs_ = load_images(paths+'/stego/*.pgm') ##STEGO IMAGES\n",
        "X_  = (numpy.vstack((Xc_, Xs_)))\n",
        "Xt_ = (numpy.hstack(([0]*len(Xc_), [1]*len(Xs_))))\n",
        "Xt_ = np_utils.to_categorical(Xt_, 2)\n",
        "X_  = np.rollaxis(X_,1,4)  #channel axis shifted to last axis\n",
        "\n",
        "print(\"Total image data and labels\",X_.shape,Xt_.shape)\n",
        "\n",
        "X_train = np.concatenate([X_[0:4000],X_[10000:14000]],axis=0)\n",
        "X_valid = np.concatenate([X_[4000:5000],X_[14000:15000]],axis=0)\n",
        "X_test  = np.concatenate([X_[5000:10000],X_[15000:20000]],axis=0)\n",
        "y_train = np.concatenate([Xt_[0:4000],Xt_[10000:14000]],axis=0)\n",
        "y_valid = np.concatenate([Xt_[4000:5000],Xt_[14000:15000]],axis=0)\n",
        "y_test  = np.concatenate([Xt_[5000:10000],Xt_[15000:20000]],axis=0)\n",
        "#Controled randomized data for training\n",
        "X_dat0, X_dat1, y_dat0, y_dat1 = train_test_split(X_train, y_train, test_size=0.50, random_state=64)\n",
        "X_train = np.concatenate([X_dat0,X_dat1],axis=0)\n",
        "y_train = np.concatenate([y_dat0,y_dat1],axis=0)\n",
        "print(X_train.shape)\n",
        "print(y_train.shape)\n",
        "print(X_valid.shape)\n",
        "print(y_valid.shape)\n",
        "print(X_test.shape)\n",
        "print(y_test.shape)"
      ],
      "metadata": {
        "id": "ugnS9Oh7b2Xo"
      },
      "execution_count": null,
      "outputs": []
    },
    {
      "cell_type": "markdown",
      "metadata": {
        "id": "7pp-qWDOonHO"
      },
      "source": [
        "## Training"
      ]
    },
    {
      "cell_type": "code",
      "execution_count": null,
      "metadata": {
        "id": "PF9gnSMEonHO"
      },
      "outputs": [],
      "source": [
        "path_model = \"/content/drive/MyDrive/Colab Notebooks/Steganalysis/logs1/\"\n",
        "path_img_base = \"/content/drive/MyDrive/Colab Notebooks/Steganalysis/images1\"\n",
        "\n",
        "\n",
        "base_name=\"WOW_\"\n",
        "m_name=\"yedroudj_Net_LSTM_\"\n",
        "#m_name=\"time\"\n",
        "name= \"Model_\"+m_name+\"_\"+base_name\n",
        "\n",
        "\n",
        "\n"
      ]
    },
    {
      "cell_type": "code",
      "source": [
        "trainTPU(path_model=path_model, epochs=150, model_Name = name)"
      ],
      "metadata": {
        "id": "SsA6duk1OdAT"
      },
      "execution_count": null,
      "outputs": []
    },
    {
      "cell_type": "markdown",
      "metadata": {
        "id": "bHwvETPMonHP"
      },
      "source": [
        "## Train"
      ]
    },
    {
      "cell_type": "code",
      "execution_count": null,
      "metadata": {
        "id": "Z5_e1GfMonHP"
      },
      "outputs": [],
      "source": [
        "Final_Results_Train(path_model+\"/\"+name)"
      ]
    },
    {
      "cell_type": "markdown",
      "metadata": {
        "id": "oyvYOrvaonHO"
      },
      "source": [
        "## Validation"
      ]
    },
    {
      "cell_type": "code",
      "execution_count": null,
      "metadata": {
        "id": "zHuJ6_HbonHP"
      },
      "outputs": [],
      "source": [
        "Final_Results_Valid(path_model+\"/\"+name)"
      ]
    },
    {
      "cell_type": "markdown",
      "metadata": {
        "id": "cK2MjsIConHO"
      },
      "source": [
        "## Test"
      ]
    },
    {
      "cell_type": "code",
      "execution_count": null,
      "metadata": {
        "id": "7rS3rDOzonHO"
      },
      "outputs": [],
      "source": [
        "Final_Results_Test(path_model+\"/\"+name)"
      ]
    },
    {
      "cell_type": "markdown",
      "metadata": {
        "id": "JZYNZpPBonHP"
      },
      "source": [
        "## Training, validation and testing graph"
      ]
    },
    {
      "cell_type": "code",
      "execution_count": null,
      "metadata": {
        "id": "gPZ0xZshonHP"
      },
      "outputs": [],
      "source": [
        "graphics(AccTest, AccTrain, AccValid, LossTest, LossTrain, LossValid, name, path_img_base)"
      ]
    },
    {
      "cell_type": "code",
      "source": [
        "model= Zhu_Net()\n",
        "model.load_weights(\"/content/drive/MyDrive/Colab Notebooks/Steganalysis/logs/Model_Ye_Net_LSTM2_TPU_04WOW1_Boss/0119.hdf5\") #path best model"
      ],
      "metadata": {
        "id": "MuW9LzKT6Tii"
      },
      "execution_count": null,
      "outputs": []
    },
    {
      "cell_type": "markdown",
      "metadata": {
        "id": "Mj6u2MwkonHP"
      },
      "source": [
        "## Top"
      ]
    },
    {
      "cell_type": "code",
      "execution_count": null,
      "metadata": {
        "id": "V4To0ll-onHP"
      },
      "outputs": [],
      "source": [
        "top_models(AccTest,AccTrain,AccValid)"
      ]
    },
    {
      "cell_type": "markdown",
      "metadata": {
        "id": "9D9HG_44onHP"
      },
      "source": [
        "Note: If you want to train the algorithm with S-UNIWARD 0.4 bpp, change \"PATH04_WOW1\" and  \"base_name\"."
      ]
    },
    {
      "cell_type": "markdown",
      "metadata": {
        "id": "HXP6pvUR9wTw"
      },
      "source": [
        "## **ROC Plot**"
      ]
    },
    {
      "cell_type": "code",
      "execution_count": null,
      "metadata": {
        "colab": {
          "base_uri": "https://localhost:8080/",
          "height": 460
        },
        "id": "nX69xYAO9tG5",
        "outputId": "510bf10f-8a9c-4fc6-87d5-6649671cebde"
      },
      "outputs": [
        {
          "name": "stdout",
          "output_type": "stream",
          "text": [
            "Ye-net model 2 generated\n"
          ]
        },
        {
          "data": {
            "image/png": "[encoded data removed]",
            "text/plain": [
              "<Figure size 504x504 with 1 Axes>"
            ]
          },
          "metadata": {},
          "output_type": "display_data"
        }
      ],
      "source": [
        "model= Ye_Net()\n",
        "model.load_weights(\"/content/drive/MyDrive/Colab Notebooks/Steganalysis/logs/Model_Ye_Net_LSTM2_TPU_04WOW1_Boss/0119.hdf5\") #path best model\n",
        "predictions= model.predict(X_test,verbose=0)\n",
        "labels = [\"Cover\",\"Stego\"]\n",
        "model_name=\"ye_Net_WOW04_LSTM- \"\n",
        "curve1,labels1=get_curve(y_test, predictions, labels,model_name)"
      ]
    }
  ],
  "metadata": {
    "accelerator": "TPU",
    "colab": {
      "collapsed_sections": [
        "83r4FrFXonHD",
        "jGYyQp73onHE",
        "FoopVm6YplcX",
        "5IVvyv0NprUq",
        "ukNFndcRpvgM",
        "F73TYdW0onHI",
        "ui4IMt5CGTOH",
        "piLNrWZep5f4"
      ],
      "machine_shape": "hm",
      "provenance": [],
      "include_colab_link": true
    },
    "gpuClass": "standard",
    "kernelspec": {
      "display_name": "Semillero",
      "language": "python",
      "name": "semillero"
    },
    "language_info": {
      "codemirror_mode": {
        "name": "ipython",
        "version": 3
      },
      "file_extension": ".py",
      "mimetype": "text/x-python",
      "name": "python",
      "nbconvert_exporter": "python",
      "pygments_lexer": "ipython3",
      "version": "3.7.7"
    }
  },
  "nbformat": 4,
  "nbformat_minor": 0
}